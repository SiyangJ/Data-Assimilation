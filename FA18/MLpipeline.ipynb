{
 "cells": [
  {
   "cell_type": "markdown",
   "metadata": {},
   "source": [
    "## Summary\n",
    "\n",
    "1. Define an architecture\n",
    "2. Input the data\n",
    "3. Train the model\n",
    "4. Save the model _optional_\n",
    "5. Make the model available to other modules\n",
    "6. The model has to be reusable\n",
    "7. Report statistics  \n",
    "\n",
    "2-7 should be capsulated into a function.  \n",
    "Input of function:\n",
    "1. Data\n",
    "2. Model  \n",
    "\n",
    "Output of function:\n",
    "1. Function-like model\n",
    "  * Input states\n",
    "  * Output observations\n",
    "2. Stats"
   ]
  },
  {
   "cell_type": "code",
   "execution_count": null,
   "metadata": {},
   "outputs": [],
   "source": []
  }
 ],
 "metadata": {
  "kernelspec": {
   "display_name": "Python 3",
   "language": "python",
   "name": "python3"
  },
  "language_info": {
   "codemirror_mode": {
    "name": "ipython",
    "version": 3
   },
   "file_extension": ".py",
   "mimetype": "text/x-python",
   "name": "python",
   "nbconvert_exporter": "python",
   "pygments_lexer": "ipython3",
   "version": "3.6.6"
  }
 },
 "nbformat": 4,
 "nbformat_minor": 2
}
