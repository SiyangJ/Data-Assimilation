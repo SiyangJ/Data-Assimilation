{
 "cells": [
  {
   "cell_type": "markdown",
   "metadata": {},
   "source": [
    "## Summary\n",
    "\n",
    "1. Define an architecture\n",
    "2. Input the data\n",
    "3. Train the model\n",
    "4. Save the model _optional_\n",
    "5. Make the model available to other modules\n",
    "6. The model has to be reusable\n",
    "7. Report statistics  \n",
    "\n",
    "2-7 should be capsulated into a function.  \n",
    "Input of function:\n",
    "1. Data\n",
    "2. Model  \n",
    "\n",
    "Output of function:\n",
    "1. Function-like model\n",
    "  * Input states\n",
    "  * Output observations\n",
    "2. Stats"
   ]
  },
  {
   "cell_type": "code",
   "execution_count": 3,
   "metadata": {},
   "outputs": [
    {
     "name": "stderr",
     "output_type": "stream",
     "text": [
      "/Library/Frameworks/Python.framework/Versions/3.6/lib/python3.6/importlib/_bootstrap.py:219: RuntimeWarning: numpy.dtype size changed, may indicate binary incompatibility. Expected 96, got 88\n",
      "  return f(*args, **kwds)\n",
      "/Library/Frameworks/Python.framework/Versions/3.6/lib/python3.6/importlib/_bootstrap.py:219: RuntimeWarning: numpy.dtype size changed, may indicate binary incompatibility. Expected 96, got 88\n",
      "  return f(*args, **kwds)\n"
     ]
    }
   ],
   "source": [
    "from EnKF_func import *\n",
    "from AuxFuncs import *\n",
    "from ML_func import *\n",
    "from DataGenerator import *"
   ]
  },
  {
   "cell_type": "code",
   "execution_count": 23,
   "metadata": {},
   "outputs": [],
   "source": [
    "def build_model():\n",
    "    model = keras.Sequential([\n",
    "    keras.layers.Dense(20, activation=tf.nn.relu, \n",
    "                       input_shape=(40,)),\n",
    "    keras.layers.Dense(20, activation=tf.nn.relu),\n",
    "    keras.layers.Dense(20)\n",
    "    ])\n",
    "\n",
    "    #optimizer = tf.train.RMSPropOptimizer(0.001)\n",
    "\n",
    "    model.compile(loss='mse',\n",
    "                optimizer='adam',\n",
    "                metrics=['mae','acc'])\n",
    "    return model"
   ]
  },
  {
   "cell_type": "code",
   "execution_count": 24,
   "metadata": {},
   "outputs": [],
   "source": [
    "def PrepareData(X,Y):\n",
    "    \n",
    "    data_size = np.shape(X)[0]\n",
    "\n",
    "    # Shuffle the input\n",
    "    order = np.argsort(np.random.random(data_size))\n",
    "\n",
    "    train_size = round(data_size * 0.8)\n",
    "    test_size = data_size - train_size\n",
    "\n",
    "    train_data = X[order[0:train_size],:]\n",
    "    train_labels = Y[order[0:train_size],:]\n",
    "\n",
    "    test_data = X[order[train_size:],:]\n",
    "    test_labels = Y[order[train_size:],:]\n",
    "\n",
    "\n",
    "    ## Normalize the data\n",
    "    ## Doesn't seem particularly useful\n",
    "    # Test data is *not* used when calculating the mean and std.\n",
    "    '''\n",
    "    mean = train_data.mean(axis=0)\n",
    "    std = train_data.std(axis=0)\n",
    "    train_data = (train_data - mean) / std\n",
    "    test_data = (test_data - mean) / std\n",
    "    '''\n",
    "    \n",
    "    return (train_data,train_labels,\n",
    "            test_data,test_labels)"
   ]
  },
  {
   "cell_type": "code",
   "execution_count": 25,
   "metadata": {},
   "outputs": [],
   "source": [
    "## Used for model trained with normalized data\n",
    "'''\n",
    "def MakeHML(model,std,mean):\n",
    "    def HML(x):\n",
    "        x = x.T\n",
    "        x = (x-mean)/std\n",
    "        return model.predict(x).T\n",
    "    return HML\n",
    "'''\n",
    "def MakeHML(model):\n",
    "    def HML(x):\n",
    "        return model.predict(x.T).T\n",
    "    return HML"
   ]
  },
  {
   "cell_type": "code",
   "execution_count": 28,
   "metadata": {},
   "outputs": [],
   "source": [
    "def ML_exp(RSEED,sigmaobs):\n",
    "    X,Y,Y_noise = DataGen(nobs=1000,RSEED=RSEED,sigmaobs=sigmaobs)\n",
    "\n",
    "    # Experiment with noised data\n",
    "\n",
    "    XX = np.transpose(X)\n",
    "    YY = np.transpose(Y_noise)\n",
    "\n",
    "    train_data,train_labels,test_data,test_labels = PrepareData(XX,YY)\n",
    "\n",
    "    model1 = build_model()\n",
    "\n",
    "    _,b,c=ML(train_data,train_labels,test_data,test_labels,model=model1,MLDEBUG=False,MLPLOTTING=False)\n",
    "    \n",
    "    print('.',end='')\n",
    "    \n",
    "    return b,c"
   ]
  },
  {
   "cell_type": "code",
   "execution_count": null,
   "metadata": {},
   "outputs": [
    {
     "name": "stdout",
     "output_type": "stream",
     "text": [
      ".........................................................................................................."
     ]
    }
   ],
   "source": [
    "RSEED_range = range(215,226)\n",
    "RSEED_num = len(RSEED_range)\n",
    "\n",
    "sigmaobs_range = np.linspace(0,1,11)\n",
    "sigmaobs_num = len(sigmaobs_range)\n",
    "\n",
    "mae_arr = np.zeros([RSEED_num,sigmaobs_num])\n",
    "acc_arr = np.zeros([RSEED_num,sigmaobs_num])\n",
    "\n",
    "for i in range(RSEED_num):\n",
    "    for j in range(sigmaobs_num):\n",
    "        mae_arr[i,j],acc_arr[i,j] = ML_exp(RSEED_range[i],sigmaobs_range[j])\n",
    "\n",
    "mae_sigmaobs = np.mean(mae_arr,axis=0)\n",
    "acc_sigmaobs = np.mean(acc_arr,axis=0)"
   ]
  },
  {
   "cell_type": "code",
   "execution_count": null,
   "metadata": {},
   "outputs": [],
   "source": []
  },
  {
   "cell_type": "code",
   "execution_count": null,
   "metadata": {},
   "outputs": [],
   "source": []
  }
 ],
 "metadata": {
  "kernelspec": {
   "display_name": "Python 3",
   "language": "python",
   "name": "python3"
  },
  "language_info": {
   "codemirror_mode": {
    "name": "ipython",
    "version": 3
   },
   "file_extension": ".py",
   "mimetype": "text/x-python",
   "name": "python",
   "nbconvert_exporter": "python",
   "pygments_lexer": "ipython3",
   "version": "3.6.6"
  }
 },
 "nbformat": 4,
 "nbformat_minor": 2
}
