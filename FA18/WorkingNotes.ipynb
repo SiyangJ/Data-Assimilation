{
 "cells": [
  {
   "cell_type": "markdown",
   "metadata": {},
   "source": [
    "## TODO\n",
    "1. Enable providing data to EnKF_func feature, so that doesn't have to repeatedly generate\n",
    "2. Pipeline\n",
    "3. ML\n",
    "  * Think about what kind of procedure?\n",
    "  * Functionalize the procedure\n",
    "4. Think about what to put in pipeline\n",
    "5. Probably shouldn't use keras, need to learn more about tensorflow\n",
    "6. Linearize the model, shouldn't be too hard.\n",
    "\n",
    "### Notes on ML\n",
    "\n",
    "#### Systematic  Error/ Unaccounted Process / Stochastic Nature\n",
    "Need to set up experiment to try.  \n",
    "The true \"observation operator\" not even a function.  \n",
    "Introduce other dynamics in the observation operator?  \n",
    "\n",
    "#### Framework\n",
    "1. Define an architecture\n",
    "2. Input the data\n",
    "3. Train the model\n",
    "4. Save the model _optional_\n",
    "5. Make the model available to other modules\n",
    "6. The model has to be reusable\n",
    "7. Report statistics  \n",
    "\n",
    "2-7 should be capsulated into a function.  \n",
    "Input of function:\n",
    "1. Data\n",
    "2. Model  \n",
    "\n",
    "Output of function:\n",
    "1. Function-like model\n",
    "  * Input states\n",
    "  * Output observations\n",
    "2. Stats\n",
    "\n",
    "**Huge Error** sometimes occurs along the run."
   ]
  },
  {
   "cell_type": "markdown",
   "metadata": {},
   "source": [
    "## Random Thoughts\n",
    "\n",
    "### Emulate\n",
    "\n",
    "1. Emulate a filter? **TODO**\n",
    "  * What's the benefit??\n",
    "  * Filter: just a function mapping distributions to distribution $X_f\\times Y\\mapsto X_a$\n",
    "  * Distributions can be approximated by Gaussian: KF filters\n",
    "    * Then a distribution is just a mean and a covariance\n",
    "    * $\\bar{X}_f\\times\\text{Cov}(X_f)\\times\\bar{Y}\\times\\text{Cov}(Y)\\mapsto \\bar{X}_a\\times\\text{Cov}(X_a)$\n",
    "  * Distributions can be approximated by empirical distribution of delta functions, i.e. particles\n",
    "    * Then a filter is ?\n",
    "    * How to emulate??\n",
    "1. Emulate a model?\n",
    "  * Since ODE models takes too long to move forward??\n",
    "1. Emulate a filter and a model??\n",
    "\n",
    "### Why do we want ML in the first place???\n",
    "\n",
    "We want to learn the observation operator. \n",
    "\n",
    "**Why was that?** \n",
    "\n",
    "The real \"observation operator\" is complex, and takes into account of other stuff.\n",
    "1. We hope to achieve better efficiency  \n",
    "2. We hope to somehow learn the \"general\" or \"average\" case of certain state\n",
    "3. A lot factors in the real model might be somehow correlated"
   ]
  },
  {
   "cell_type": "code",
   "execution_count": 2,
   "metadata": {},
   "outputs": [
    {
     "data": {
      "text/plain": [
       "107"
      ]
     },
     "execution_count": 2,
     "metadata": {},
     "output_type": "execute_result"
    }
   ],
   "source": [
    "len(\"...........................................................................................................\")"
   ]
  },
  {
   "cell_type": "code",
   "execution_count": null,
   "metadata": {},
   "outputs": [],
   "source": []
  }
 ],
 "metadata": {
  "kernelspec": {
   "display_name": "Python 3",
   "language": "python",
   "name": "python3"
  },
  "language_info": {
   "codemirror_mode": {
    "name": "ipython",
    "version": 3
   },
   "file_extension": ".py",
   "mimetype": "text/x-python",
   "name": "python",
   "nbconvert_exporter": "python",
   "pygments_lexer": "ipython3",
   "version": "3.6.6"
  }
 },
 "nbformat": 4,
 "nbformat_minor": 2
}
