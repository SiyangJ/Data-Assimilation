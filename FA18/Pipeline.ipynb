{
 "cells": [
  {
   "cell_type": "code",
   "execution_count": 5,
   "metadata": {},
   "outputs": [],
   "source": [
    "from EnKF_func import *\n",
    "from AuxFuncs import *\n",
    "from ML_func import *\n",
    "from DataGenerator import *"
   ]
  },
  {
   "cell_type": "code",
   "execution_count": 6,
   "metadata": {},
   "outputs": [],
   "source": [
    "def build_model():\n",
    "    model = keras.Sequential([\n",
    "    keras.layers.Dense(20, activation=tf.nn.relu, \n",
    "                       input_shape=(train_data.shape[1],)),\n",
    "    keras.layers.Dense(20, activation=tf.nn.relu),\n",
    "    keras.layers.Dense(20)\n",
    "    ])\n",
    "\n",
    "    #optimizer = tf.train.RMSPropOptimizer(0.001)\n",
    "\n",
    "    model.compile(loss='mse',\n",
    "                optimizer='adam',\n",
    "                metrics=['mae','acc'])\n",
    "    return model"
   ]
  },
  {
   "cell_type": "code",
   "execution_count": 7,
   "metadata": {},
   "outputs": [],
   "source": [
    "def PrepareData(X,Y):\n",
    "    \n",
    "    data_size = np.shape(X)[0]\n",
    "\n",
    "    # Shuffle the input\n",
    "    order = np.argsort(np.random.random(data_size))\n",
    "\n",
    "    train_size = round(data_size * 0.8)\n",
    "    test_size = data_size - train_size\n",
    "\n",
    "    train_data = X[order[0:train_size],:]\n",
    "    train_labels = Y[order[0:train_size],:]\n",
    "\n",
    "    test_data = X[order[train_size:],:]\n",
    "    test_labels = Y[order[train_size:],:]\n",
    "\n",
    "\n",
    "    # Test data is *not* used when calculating the mean and std.\n",
    "\n",
    "    mean = train_data.mean(axis=0)\n",
    "    std = train_data.std(axis=0)\n",
    "    train_data = (train_data - mean) / std\n",
    "    test_data = (test_data - mean) / std\n",
    "    \n",
    "    return (train_data,train_labels,\n",
    "            test_data,test_labels)"
   ]
  },
  {
   "cell_type": "code",
   "execution_count": 9,
   "metadata": {},
   "outputs": [
    {
     "name": "stdout",
     "output_type": "stream",
     "text": [
      "\n",
      "....................................................................................................\n",
      "....................................................................................................\n",
      "....................................................................................................\n",
      "....................................................................................................\n",
      "....................................................................................................\n",
      "....................................................................................................\n",
      "....................................................................................................\n",
      "....................................................................................................\n",
      "....................................................................................................\n",
      "....................................................................................................\n",
      "Testing set Mean Abs Error: 3.63\n",
      "Testing set Accuracy: 0.82\n"
     ]
    },
    {
     "data": {
      "image/png": "[encoded data removed]",
      "text/plain": [
       "<Figure size 432x288 with 1 Axes>"
      ]
     },
     "metadata": {},
     "output_type": "display_data"
    },
    {
     "data": {
      "image/png": "[encoded data removed]",
      "text/plain": [
       "<Figure size 432x288 with 1 Axes>"
      ]
     },
     "metadata": {},
     "output_type": "display_data"
    }
   ],
   "source": [
    "X,Y,Y_noise = DataGen(nobs=2000)\n",
    "\n",
    "# Experiment with noised data\n",
    "Y = Y_noise\n",
    "\n",
    "X = np.transpose(X)\n",
    "Y = np.transpose(Y)\n",
    "\n",
    "train_data,train_labels,test_data,test_labels = PrepareData(X,Y)\n",
    "\n",
    "model1 = build_model()\n",
    "\n",
    "a,b,c=ML(train_data,train_labels,test_data,test_labels,model=model1,MLDEBUG=True,MLPLOTTING=True)"
   ]
  },
  {
   "cell_type": "code",
   "execution_count": null,
   "metadata": {},
   "outputs": [],
   "source": []
  }
 ],
 "metadata": {
  "kernelspec": {
   "display_name": "Python 3",
   "language": "python",
   "name": "python3"
  },
  "language_info": {
   "codemirror_mode": {
    "name": "ipython",
    "version": 3
   },
   "file_extension": ".py",
   "mimetype": "text/x-python",
   "name": "python",
   "nbconvert_exporter": "python",
   "pygments_lexer": "ipython3",
   "version": "3.6.6"
  }
 },
 "nbformat": 4,
 "nbformat_minor": 2
}
