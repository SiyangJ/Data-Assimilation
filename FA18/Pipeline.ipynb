{
 "cells": [
  {
   "cell_type": "code",
   "execution_count": 2,
   "metadata": {},
   "outputs": [],
   "source": [
    "from EnKF_func import *"
   ]
  },
  {
   "cell_type": "code",
   "execution_count": 3,
   "metadata": {},
   "outputs": [
    {
     "data": {
      "text/plain": [
       "(2.2030595249606093,\n",
       " 2.1747934086653076,\n",
       " 0.7208405539502045,\n",
       " 0.5310033013042192,\n",
       " 2.9290817516107803,\n",
       " 3.0247897700112296)"
      ]
     },
     "execution_count": 3,
     "metadata": {},
     "output_type": "execute_result"
    }
   ],
   "source": [
    "EnKF(SAVEDATA=3,data_dir='exp_dt2.npz')"
   ]
  },
  {
   "cell_type": "code",
   "execution_count": 4,
   "metadata": {},
   "outputs": [],
   "source": [
    "dt2 = np.load('exp_dt2.npz')"
   ]
  },
  {
   "cell_type": "code",
   "execution_count": 5,
   "metadata": {},
   "outputs": [
    {
     "data": {
      "text/plain": [
       "['DESC',\n",
       " 'RSEED',\n",
       " 'HTYPE',\n",
       " 'HERROR',\n",
       " 'LINEAR',\n",
       " 'FORECAST_ERROR',\n",
       " 'INFLATION',\n",
       " 'ndim',\n",
       " 'pars',\n",
       " 'nobs',\n",
       " 'deltaobs',\n",
       " 'dobs',\n",
       " 'Hmat',\n",
       " 'sigmaobs',\n",
       " 'infl_lin',\n",
       " 'infl_nlin',\n",
       " 'sigmainit',\n",
       " 'nens',\n",
       " 'ferr',\n",
       " 'truestate',\n",
       " 'trueobs',\n",
       " 'yobs',\n",
       " 'xfm',\n",
       " 'xfcov',\n",
       " 'xam',\n",
       " 'xacov',\n",
       " 'yfm',\n",
       " 'yfcov',\n",
       " 'xferravgxt',\n",
       " 'xaerravgxt',\n",
       " 'xferr10avgxt',\n",
       " 'xaerr10avgxt',\n",
       " 'xferr30avgxt',\n",
       " 'xaerr30avgxt']"
      ]
     },
     "execution_count": 5,
     "metadata": {},
     "output_type": "execute_result"
    }
   ],
   "source": [
    "dt2.files"
   ]
  },
  {
   "cell_type": "code",
   "execution_count": 6,
   "metadata": {},
   "outputs": [],
   "source": [
    "truestate = dt2['truestate']"
   ]
  },
  {
   "cell_type": "code",
   "execution_count": 7,
   "metadata": {},
   "outputs": [
    {
     "data": {
      "text/plain": [
       "(40, 51)"
      ]
     },
     "execution_count": 7,
     "metadata": {},
     "output_type": "execute_result"
    }
   ],
   "source": [
    "truestate.shape"
   ]
  },
  {
   "cell_type": "code",
   "execution_count": null,
   "metadata": {},
   "outputs": [],
   "source": []
  }
 ],
 "metadata": {
  "kernelspec": {
   "display_name": "Python 3",
   "language": "python",
   "name": "python3"
  },
  "language_info": {
   "codemirror_mode": {
    "name": "ipython",
    "version": 3
   },
   "file_extension": ".py",
   "mimetype": "text/x-python",
   "name": "python",
   "nbconvert_exporter": "python",
   "pygments_lexer": "ipython3",
   "version": "3.6.6"
  }
 },
 "nbformat": 4,
 "nbformat_minor": 2
}
