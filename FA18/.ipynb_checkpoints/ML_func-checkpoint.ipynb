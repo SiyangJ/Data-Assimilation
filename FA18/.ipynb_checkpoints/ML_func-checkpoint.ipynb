{
 "cells": [
  {
   "cell_type": "markdown",
   "metadata": {},
   "source": [
    "## Summary:\n",
    "**Name:** Functionalize Maching Learning Procedure  \n",
    "**Author:** Siyang Jing  \n",
    "**Organization:** UNC-CH  \n",
    "**License:** WTFPL  \n",
    "\n",
    "**Reference:**\n",
    "1. TensorFlow's keras tutorial\n",
    "1. The author's other codes\n",
    "1. Relevant numerous papers\n",
    "  \n",
    "**Description:**  \n",
    "This file prepares a function ML  \n",
    "_Input_:\n",
    "* Parameters:\n",
    "  * train_data\n",
    "  * train_labels\n",
    "  * test_data\n",
    "  * test_labels\n",
    "  * model: default is none, will build a 2 layer FNN with 20 neurons\n",
    "  * EPOCHS: default is 1000, seems a good number\n",
    "  * Other model fitting parameters\n",
    "* Flags:\n",
    "  * MLPLOTTING: if enabled, will plot figures as described below\n",
    "  * MLDEBUG: if enabled, will print ... for each 100 epochs\n",
    "  \n",
    "_Output_:  \n",
    "1. model: a tensorflow keras model\n",
    "1. mean absolute error\n",
    "1. accuracy score\n",
    "\n",
    "_Saved Files_:   \n",
    "For now, doesn't save anything.  \n",
    "\n",
    "_Plots_:\n",
    "1. Loss versus epochs\n",
    "1. Accuracy versus epochs\n",
    "1. Print test loss, mae, and acc\n",
    "\n",
    "**Requirements:**\n",
    "1. Relevant Python modules\n",
    "1. AuxFuncs, which defines the following:  \n",
    "  1. Observation operator  \n",
    "  1. Stupid inverse function  \n",
    "  1. Lorenz96 as model\n",
    "1. DataGenerator, which generates data based on the models in AuxFuncs"
   ]
  },
  {
   "cell_type": "markdown",
   "metadata": {},
   "source": [
    "## TODO list:\n",
    "1. Write a function to parse model fitting parameters\n",
    "1. Arbitrary statistics type\n",
    "1. Save the model _optional_\n",
    "1. Figure out what acc score means for regression model"
   ]
  },
  {
   "cell_type": "code",
   "execution_count": 1,
   "metadata": {},
   "outputs": [
    {
     "name": "stderr",
     "output_type": "stream",
     "text": [
      "/Library/Frameworks/Python.framework/Versions/3.6/lib/python3.6/importlib/_bootstrap.py:219: RuntimeWarning: numpy.dtype size changed, may indicate binary incompatibility. Expected 96, got 88\n",
      "  return f(*args, **kwds)\n",
      "/Library/Frameworks/Python.framework/Versions/3.6/lib/python3.6/importlib/_bootstrap.py:219: RuntimeWarning: numpy.dtype size changed, may indicate binary incompatibility. Expected 96, got 88\n",
      "  return f(*args, **kwds)\n"
     ]
    }
   ],
   "source": [
    "import tensorflow as tf\n",
    "from tensorflow import keras\n",
    "\n",
    "import numpy as np\n",
    "\n",
    "from EnKF_func import *\n",
    "from AuxFuncs import *\n",
    "from DataGenerator import *\n",
    "import matplotlib.pyplot as plt\n",
    "%matplotlib inline\n"
   ]
  },
  {
   "cell_type": "code",
   "execution_count": 10,
   "metadata": {},
   "outputs": [],
   "source": [
    "X,Y,Y_noise = DataGen(nobs=2000)\n",
    "\n",
    "# Experiment with noised data\n",
    "Y = Y_noise\n",
    "\n",
    "X = np.transpose(X)\n",
    "Y = np.transpose(Y)\n",
    "\n",
    "data_size = np.shape(X)[0]\n",
    "\n",
    "# Shuffle the input\n",
    "order = np.argsort(np.random.random(data_size))\n",
    "\n",
    "train_size = round(data_size * 0.8)\n",
    "test_size = data_size - train_size\n",
    "\n",
    "train_data = X[order[0:train_size],:]\n",
    "train_labels = Y[order[0:train_size],:]\n",
    "\n",
    "test_data = X[order[train_size:],:]\n",
    "test_labels = Y[order[train_size:],:]\n",
    "\n",
    "\n",
    "# Test data is *not* used when calculating the mean and std.\n",
    "\n",
    "mean = train_data.mean(axis=0)\n",
    "std = train_data.std(axis=0)\n",
    "train_data = (train_data - mean) / std\n",
    "test_data = (test_data - mean) / std"
   ]
  },
  {
   "cell_type": "code",
   "execution_count": 11,
   "metadata": {},
   "outputs": [],
   "source": [
    "def ML(train_data,train_labels,\n",
    "       test_data,test_labels,\n",
    "       model=None,\n",
    "       MLDEBUG=True,\n",
    "       MLPLOTTING=False,\n",
    "       EPOCHS=1000):\n",
    "    \n",
    "    # Default Model\n",
    "    if model is None:\n",
    "        def build_model():\n",
    "            model = keras.Sequential([\n",
    "            keras.layers.Dense(20, activation=tf.nn.relu, \n",
    "                               input_shape=(train_data.shape[1],)),\n",
    "            keras.layers.Dense(20, activation=tf.nn.relu),\n",
    "            keras.layers.Dense(20)\n",
    "          ])\n",
    "\n",
    "            #optimizer = tf.train.RMSPropOptimizer(0.001)\n",
    "\n",
    "            model.compile(loss='mse',\n",
    "                        optimizer='adam',\n",
    "                        metrics=['mae','acc'])\n",
    "            return model\n",
    "\n",
    "        model = build_model()\n",
    "\n",
    "    # Display training progress by printing a single dot for each completed epoch.\n",
    "    class PrintDot(keras.callbacks.Callback):\n",
    "        def on_epoch_end(self,epoch,logs):\n",
    "            if epoch % 100 == 0: print('')\n",
    "            print('.', end='')\n",
    "\n",
    "    # Store training stats\n",
    "    history = model.fit(train_data, train_labels, epochs=EPOCHS,\n",
    "                        validation_split=0.2, verbose=0,\n",
    "                        callbacks=[PrintDot()] if MLDEBUG else None)\n",
    "    \n",
    "    [loss, mae, acc] = model.evaluate(test_data, test_labels, verbose=0)\n",
    "\n",
    "    if MLPLOTTING:\n",
    "        def plot_history(history):\n",
    "            plt.figure()\n",
    "            plt.xlabel('Epoch')\n",
    "            plt.ylabel('Mean Abs Error')\n",
    "            plt.plot(history.epoch, np.array(history.history['mean_absolute_error']), \n",
    "                   label='Train Loss')\n",
    "            plt.plot(history.epoch, np.array(history.history['val_mean_absolute_error']),\n",
    "                   label = 'Val loss')\n",
    "            plt.legend()\n",
    "            plt.ylim([0,5])\n",
    "\n",
    "        plot_history(history)\n",
    "\n",
    "        def plot_acc_history(history):\n",
    "            plt.figure()\n",
    "            plt.xlabel('Epoch')\n",
    "            plt.ylabel('Mean Rel Error')\n",
    "            plt.plot(history.epoch, np.array(history.history['acc']), \n",
    "                   label='Train Loss')\n",
    "            plt.plot(history.epoch, np.array(history.history['val_acc']),\n",
    "                   label = 'Val loss')\n",
    "            plt.legend()\n",
    "            plt.ylim([0,5])\n",
    "\n",
    "        plot_acc_history(history)\n",
    "\n",
    "        print(\"\")\n",
    "        print(\"Testing set Mean Abs Error: {:4.2f}\".format(mae))\n",
    "        print(\"Testing set Accuracy: {:4.2f}\".format(acc))\n",
    "    \n",
    "    return (model,mae,acc)"
   ]
  },
  {
   "cell_type": "code",
   "execution_count": 12,
   "metadata": {},
   "outputs": [
    {
     "name": "stdout",
     "output_type": "stream",
     "text": [
      "\n",
      "....................................................................................................\n",
      "....................................................................................................\n",
      "....................................................................................................\n",
      "....................................................................................................\n",
      "....................................................................................................\n",
      "....................................................................................................\n",
      "....................................................................................................\n",
      "....................................................................................................\n",
      "....................................................................................................\n",
      "....................................................................................................\n",
      "....................................................................................................\n",
      "....................................................................................................\n",
      "....................................................................................................\n",
      "....................................................................................................\n",
      "....................................................................................................\n",
      "....................................................................................................\n",
      "....................................................................................................\n",
      "....................................................................................................\n",
      "....................................................................................................\n",
      "....................................................................................................Testing set Mean Abs Error: 3.19\n",
      "Testing set Accuracy: 0.85\n",
      "(<tensorflow.python.keras.engine.sequential.Sequential object at 0x12d0b2438>, 3.1900616836547853, 0.85)\n"
     ]
    },
    {
     "data": {
      "image/png": "[encoded data removed]",
      "text/plain": [
       "<Figure size 432x288 with 1 Axes>"
      ]
     },
     "metadata": {},
     "output_type": "display_data"
    },
    {
     "data": {
      "image/png": "[encoded data removed]",
      "text/plain": [
       "<Figure size 432x288 with 1 Axes>"
      ]
     },
     "metadata": {},
     "output_type": "display_data"
    }
   ],
   "source": [
    "print(ML(train_data,train_labels,test_data,test_labels,MLPLOTTING=True))"
   ]
  },
  {
   "cell_type": "code",
   "execution_count": null,
   "metadata": {},
   "outputs": [],
   "source": []
  }
 ],
 "metadata": {
  "kernelspec": {
   "display_name": "Python 3",
   "language": "python",
   "name": "python3"
  },
  "language_info": {
   "codemirror_mode": {
    "name": "ipython",
    "version": 3
   },
   "file_extension": ".py",
   "mimetype": "text/x-python",
   "name": "python",
   "nbconvert_exporter": "python",
   "pygments_lexer": "ipython3",
   "version": "3.6.6"
  }
 },
 "nbformat": 4,
 "nbformat_minor": 2
}
