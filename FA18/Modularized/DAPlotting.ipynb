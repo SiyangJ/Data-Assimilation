{
 "cells": [
  {
   "cell_type": "code",
   "execution_count": 2,
   "metadata": {},
   "outputs": [],
   "source": [
    "import numpy as np"
   ]
  },
  {
   "cell_type": "code",
   "execution_count": 5,
   "metadata": {},
   "outputs": [
    {
     "data": {
      "text/plain": [
       "array([[1.e+00, 0.e+00, 0.e+00],\n",
       "       [0.e+00, 1.e+02, 0.e+00],\n",
       "       [0.e+00, 0.e+00, 1.e+04]])"
      ]
     },
     "execution_count": 5,
     "metadata": {},
     "output_type": "execute_result"
    }
   ],
   "source": [
    "sigmainit = np.array([1,10,100])\n",
    "np.identity(3) * (sigmainit ** 2)"
   ]
  },
  {
   "cell_type": "code",
   "execution_count": 8,
   "metadata": {},
   "outputs": [
    {
     "data": {
      "text/plain": [
       "False"
      ]
     },
     "execution_count": 8,
     "metadata": {},
     "output_type": "execute_result"
    }
   ],
   "source": []
  },
  {
   "cell_type": "code",
   "execution_count": null,
   "metadata": {},
   "outputs": [],
   "source": []
  },
  {
   "cell_type": "code",
   "execution_count": null,
   "metadata": {},
   "outputs": [],
   "source": []
  },
  {
   "cell_type": "code",
   "execution_count": null,
   "metadata": {},
   "outputs": [],
   "source": []
  },
  {
   "cell_type": "code",
   "execution_count": null,
   "metadata": {},
   "outputs": [],
   "source": []
  },
  {
   "cell_type": "code",
   "execution_count": null,
   "metadata": {},
   "outputs": [],
   "source": []
  },
  {
   "cell_type": "code",
   "execution_count": null,
   "metadata": {},
   "outputs": [],
   "source": []
  },
  {
   "cell_type": "code",
   "execution_count": null,
   "metadata": {},
   "outputs": [],
   "source": []
  },
  {
   "cell_type": "code",
   "execution_count": 3,
   "metadata": {},
   "outputs": [
    {
     "ename": "NameError",
     "evalue": "name 'PLOTTING' is not defined",
     "output_type": "error",
     "traceback": [
      "\u001b[0;31m---------------------------------------------------------------------------\u001b[0m",
      "\u001b[0;31mNameError\u001b[0m                                 Traceback (most recent call last)",
      "\u001b[0;32m<ipython-input-3-f05b12d910f6>\u001b[0m in \u001b[0;36m<module>\u001b[0;34m()\u001b[0m\n\u001b[0;32m----> 1\u001b[0;31m \u001b[0;32mif\u001b[0m \u001b[0mPLOTTING\u001b[0m\u001b[0;34m:\u001b[0m\u001b[0;34m\u001b[0m\u001b[0m\n\u001b[0m\u001b[1;32m      2\u001b[0m \u001b[0;34m\u001b[0m\u001b[0m\n\u001b[1;32m      3\u001b[0m     \u001b[0;32mif\u001b[0m \u001b[0mtruetraj\u001b[0m \u001b[0;32mis\u001b[0m \u001b[0;32mNone\u001b[0m\u001b[0;34m:\u001b[0m\u001b[0;34m\u001b[0m\u001b[0m\n\u001b[1;32m      4\u001b[0m         \u001b[0mtruetraj\u001b[0m \u001b[0;34m=\u001b[0m \u001b[0mscp\u001b[0m\u001b[0;34m.\u001b[0m\u001b[0mintegrate\u001b[0m\u001b[0;34m.\u001b[0m\u001b[0modeint\u001b[0m\u001b[0;34m(\u001b[0m\u001b[0mTM\u001b[0m\u001b[0;34m,\u001b[0m \u001b[0mxattr\u001b[0m\u001b[0;34m,\u001b[0m \u001b[0mttraj\u001b[0m\u001b[0;34m,\u001b[0m \u001b[0;34m(\u001b[0m\u001b[0mpars\u001b[0m\u001b[0;34m,\u001b[0m\u001b[0;34m)\u001b[0m\u001b[0;34m)\u001b[0m\u001b[0;34m\u001b[0m\u001b[0m\n\u001b[1;32m      5\u001b[0m \u001b[0;34m\u001b[0m\u001b[0m\n",
      "\u001b[0;31mNameError\u001b[0m: name 'PLOTTING' is not defined"
     ]
    }
   ],
   "source": [
    "if PLOTTING:\n",
    "\n",
    "    if truetraj is None:\n",
    "        truetraj = scp.integrate.odeint(TM, xattr, ttraj, (pars,))     \n",
    "\n",
    "    ## some plotting functions\n",
    "    def plotwitherrorbarsobsplt(iob, itr, nsig, cvflag):\n",
    "        lt, = plt.plot(ttraj, truetraj[:,itr])\n",
    "        lf, = plt.plot(tobs[1:], xfm[1::,itr], '.-')\n",
    "        la, = plt.plot(tobs, xam[:,itr], '.-')\n",
    "        if cvflag:\n",
    "            errf = np.sqrt(xfcov[:,itr,itr])*nsig\n",
    "            plt.fill_between(tobs[1:], xfm[1:,itr] - errf[1:], xfm[1:,itr] + errf[1:], alpha=0.5, color = lf.get_color())\n",
    "            erra = np.sqrt(xacov[:,itr,itr])*nsig\n",
    "            plt.fill_between(tobs[1:], xam[1:,itr] - erra[1:], xam[1:,itr] + erra[1:], alpha=0.5, color = la.get_color())\n",
    "\n",
    "    def plotwitherrorbarsnoobplt(itr, nsig, cvflag):\n",
    "        lt, = plt.plot(ttraj, truetraj[:,itr])\n",
    "        lf, = plt.plot(tobs[1:], xfm[1::,itr], '.-')\n",
    "        la, = plt.plot(tobs, xam[:,itr], '.-')\n",
    "        if cvflag:\n",
    "            errf = np.sqrt(xfcov[:,itr,itr])*nsig\n",
    "            plt.fill_between(tobs[1:], xfm[1:,itr] - errf[1:], xfm[1:,itr] + errf[1:], alpha=0.5, color = lf.get_color())\n",
    "            erra = np.sqrt(xacov[:,itr,itr])*nsig\n",
    "            plt.fill_between(tobs[1:], xam[1:,itr] - erra[1:], xam[1:,itr] + erra[1:], alpha=0.5, color = la.get_color())\n",
    "\n",
    "    # For subplots\n",
    "    def plotwitherrorbarsobsax(iob, itr, nsig, cvflag):\n",
    "        lt, = ax.plot(ttraj, truetraj[:,itr])\n",
    "        lf, = ax.plot(tobs[1:], xfm[1:,itr], '.-')\n",
    "        la, = ax.plot(tobs[1:], xam[1:,itr], '.-')\n",
    "        if cvflag:\n",
    "            errf = np.sqrt(xfcov[:,itr,itr])*nsig\n",
    "            ax.fill_between(tobs[1:], xfm[1:,itr] - errf[1:], xfm[1:,itr] + errf[1:], alpha=0.5, color = lf.get_color())\n",
    "            erra = np.sqrt(xacov[:,itr,itr])*nsig\n",
    "            ax.fill_between(tobs[1:], xam[1:,itr] - erra[1:], xam[1:,itr] + erra[1:], alpha=0.5, color = la.get_color())\n",
    "\n",
    "    def plotwitherrorbarsnoobax(itr, nsig, cvflag):\n",
    "        lt, = ax.plot(ttraj, truetraj[:,itr])\n",
    "        lf, = ax.plot(tobs[1:], xfm[1:,itr], '.-')\n",
    "        la, = ax.plot(tobs[1:], xam[1:,itr], '.-')\n",
    "        if cvflag:\n",
    "            errf = np.sqrt(xfcov[:,itr,itr])*nsig\n",
    "            ax.fill_between(tobs[1:], xfm[1:,itr] - errf[1:], xfm[1:,itr] + errf[1:], alpha=0.5, color = lf.get_color())\n",
    "            erra = np.sqrt(xacov[:,itr,itr])*nsig\n",
    "            ax.fill_between(tobs[1:], xam[1:,itr] - erra[1:], xam[1:,itr] + erra[1:], alpha=0.5, color = la.get_color())\n",
    "\n",
    "\n",
    "    ## plot observed variables\n",
    "    cvflag = True\n",
    "\n",
    "    nsig=3\n",
    "    fig, axes = plt.subplots(nrows=2, ncols=4, figsize=(13,7))\n",
    "    for ii, ax in enumerate(axes.flat, start=1):\n",
    "        iob = ii-1\n",
    "        itr = iob\n",
    "        plotwitherrorbarsobsax(iob, itr, nsig, cvflag)\n",
    "        ax.grid()\n",
    "    fig.tight_layout()\n",
    "\n",
    "    ## plot some of the unobserved variables\n",
    "    nsig=3\n",
    "    fig, axes = plt.subplots(nrows=2, ncols=4, figsize=(13,7))\n",
    "    for ii, ax in enumerate(axes.flat, start=1):\n",
    "        itr = ii + 20\n",
    "        plotwitherrorbarsnoobax(itr, nsig, cvflag)\n",
    "        ax.grid()\n",
    "    fig.tight_layout()\n",
    "\n",
    "\n",
    "    ## Plot truth, forecast, and analysis as images\n",
    "    vmin=np.min((np.min(truestate),np.min(xfm),np.min(xam)))\n",
    "    vmax=np.min((np.max(truestate),np.max(xfm),np.max(xam)))\n",
    "\n",
    "    plt.figure(figsize=(17,6))\n",
    "    plt.subplot(1,3,1)\n",
    "    plt.imshow(truestate, aspect='auto', vmin=vmin, vmax=vmax)\n",
    "    plt.colorbar()\n",
    "    plt.subplot(1,3,2)\n",
    "    plt.imshow(xfm.T, aspect='auto', vmin=vmin, vmax=vmax)\n",
    "    plt.colorbar()\n",
    "    plt.subplot(1,3,3)\n",
    "    plt.imshow(xam.T, aspect='auto', vmin=vmin, vmax=vmax)\n",
    "    plt.colorbar()\n",
    "\n",
    "    ## Calculate statistics\n",
    "    # Absolute errors\n",
    "    xferr = np.abs(xfm - truestate.T)\n",
    "    xaerr = np.abs(xam - truestate.T)\n",
    "\n",
    "    vmin=np.min((np.min(xferr),np.min(xaerr)))\n",
    "    vmax=np.min((np.max(xferr),np.max(xaerr)))\n",
    "\n",
    "    plt.figure(figsize=(10,6))\n",
    "\n",
    "    plt.subplot(1,2,1)\n",
    "    plt.imshow(xferr[:,0:10], aspect='auto', vmin=vmin, vmax=vmax)\n",
    "    plt.colorbar()\n",
    "    plt.subplot(1,2,2)\n",
    "    plt.imshow(xaerr[:,0:10], aspect='auto', vmin=vmin, vmax=vmax)\n",
    "    plt.colorbar()"
   ]
  },
  {
   "cell_type": "code",
   "execution_count": null,
   "metadata": {},
   "outputs": [],
   "source": [
    "\n",
    "if PLOTTING:\n",
    "    ## plot a long trajectory...\n",
    "    tlong = np.linspace(0,100,10000)\n",
    "    xlong = scp.integrate.odeint(TM, xattr, tlong, (pars,))\n",
    "    # Plotting\n",
    "    plt.figure(figsize=(10, 8))\n",
    "    plt.imshow(xlong, aspect='auto')\n",
    "    plt.colorbar()\n",
    "    #sigmaobs = np.abs(np.max(xlong[:,0]) - np.min(xlong[:,0]))/50"
   ]
  },
  {
   "cell_type": "code",
   "execution_count": null,
   "metadata": {},
   "outputs": [],
   "source": [
    "if PLOTTING:\n",
    "    plt.figure()\n",
    "    plt.subplot(1,3,1)\n",
    "    plt.plot(xferr10avgx)\n",
    "    plt.plot(xaerr10avgx)\n",
    "    plt.legend(['forecast','analysis'])\n",
    "    plt.title('First 10 variables')\n",
    "    plt.subplot(1,3,2)\n",
    "    plt.plot(xferr30avgx)\n",
    "    plt.plot(xaerr30avgx)\n",
    "    plt.legend(['forecast','analysis'])\n",
    "    plt.title('Last 30 variables')\n",
    "    plt.subplot(1,3,3)\n",
    "    plt.plot(xferravgx)\n",
    "    plt.plot(xaerravgx)\n",
    "    plt.legend(['forecast','analysis'])\n",
    "    plt.title('All variables')\n",
    "\n",
    "    plt.figure()\n",
    "    plt.plot(xferravgt)\n",
    "    plt.plot(xaerravgt)"
   ]
  }
 ],
 "metadata": {
  "kernelspec": {
   "display_name": "Python 3",
   "language": "python",
   "name": "python3"
  },
  "language_info": {
   "codemirror_mode": {
    "name": "ipython",
    "version": 3
   },
   "file_extension": ".py",
   "mimetype": "text/x-python",
   "name": "python",
   "nbconvert_exporter": "python",
   "pygments_lexer": "ipython3",
   "version": "3.6.6"
  }
 },
 "nbformat": 4,
 "nbformat_minor": 2
}
