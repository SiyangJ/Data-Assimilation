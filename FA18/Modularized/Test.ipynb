{
 "cells": [
  {
   "cell_type": "code",
   "execution_count": 1,
   "metadata": {},
   "outputs": [],
   "source": [
    "import numpy as np"
   ]
  },
  {
   "cell_type": "code",
   "execution_count": 9,
   "metadata": {},
   "outputs": [],
   "source": [
    "def ObsVer1(X):\n",
    "    hc = 10 #TODO\n",
    "    a =((0.2+X[:,1])/2+np.tanh(X[:,0]/(9.5*hc)) * (0.2-X[:,1])/2)\n",
    "    Ci = 1-((0.8-(0.5*X[:,1]+.5*a))/0.6)\n",
    "    Cp = (1 - a / X[:,1])\n",
    "    Csat = np.maximum(0,Ci-Cp)\n",
    "    m = a.shape[0]\n",
    "    Rad = np.zeros([m,5])\n",
    "    Rad[:,0] = np.absolute(X[:,0] * X[:,1])\n",
    "    Rad[:,1] = X[:,1] - a\n",
    "    Rad[:,2] = a * np.absolute(X[:,0])\n",
    "    Rad[:,3] = (0.5+0.4 *np.tanh((-(X[:,0]-50)/10))) * ((X[:,0])+273.15)\n",
    "    Rad[:,4] = Cp * Ci\n",
    "    return Rad"
   ]
  },
  {
   "cell_type": "code",
   "execution_count": 10,
   "metadata": {},
   "outputs": [],
   "source": [
    "X = np.random.rand(10,2)"
   ]
  },
  {
   "cell_type": "code",
   "execution_count": 14,
   "metadata": {},
   "outputs": [],
   "source": [
    "Y = ObsVer1(X)"
   ]
  },
  {
   "cell_type": "code",
   "execution_count": 15,
   "metadata": {},
   "outputs": [
    {
     "data": {
      "text/plain": [
       "(10, 5)"
      ]
     },
     "execution_count": 15,
     "metadata": {},
     "output_type": "execute_result"
    }
   ],
   "source": [
    "Y.shape"
   ]
  },
  {
   "cell_type": "code",
   "execution_count": null,
   "metadata": {},
   "outputs": [],
   "source": []
  }
 ],
 "metadata": {
  "kernelspec": {
   "display_name": "Python 3",
   "language": "python",
   "name": "python3"
  },
  "language_info": {
   "codemirror_mode": {
    "name": "ipython",
    "version": 3
   },
   "file_extension": ".py",
   "mimetype": "text/x-python",
   "name": "python",
   "nbconvert_exporter": "python",
   "pygments_lexer": "ipython3",
   "version": "3.5.2"
  }
 },
 "nbformat": 4,
 "nbformat_minor": 2
}
