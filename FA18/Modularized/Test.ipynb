{
 "cells": [
  {
   "cell_type": "code",
   "execution_count": 1,
   "metadata": {},
   "outputs": [],
   "source": [
    "import numpy as np\n",
    "import matlab as ml\n",
    "import sys\n",
    "\n",
    "sys.argv[1] = \"/usr/local/python\""
   ]
  },
  {
   "cell_type": "code",
   "execution_count": 2,
   "metadata": {},
   "outputs": [],
   "source": [
    "import config"
   ]
  },
  {
   "cell_type": "code",
   "execution_count": 3,
   "metadata": {},
   "outputs": [],
   "source": [
    "import ObservationOperator as obop\n",
    "import Model"
   ]
  },
  {
   "cell_type": "code",
   "execution_count": 4,
   "metadata": {},
   "outputs": [],
   "source": [
    "import DataGeneration"
   ]
  },
  {
   "cell_type": "code",
   "execution_count": 5,
   "metadata": {},
   "outputs": [],
   "source": [
    "DataGeneration.DataGeneration()"
   ]
  },
  {
   "cell_type": "code",
   "execution_count": 22,
   "metadata": {},
   "outputs": [],
   "source": [
    "def TrueObsVer1(X):\n",
    "    hc = 10 #TODO\n",
    "    a =((0.2+X[:,1])/2+np.tanh(X[:,0]/(9.5*hc)) * (0.2-X[:,1])/2)\n",
    "    Ci = 1-((0.8-(0.5*X[:,1]+.5*a))/0.6)\n",
    "    Cp = (1 - a / X[:,1])\n",
    "    Csat = np.maximum(0,Ci-Cp)\n",
    "    m = a.shape[0]\n",
    "    Rad = np.zeros([m,5])\n",
    "    Rad[:,0] = np.absolute(X[:,0] * X[:,1])\n",
    "    Rad[:,1] = X[:,1] - a\n",
    "    Rad[:,2] = a * np.absolute(X[:,0])\n",
    "    Rad[:,3] = (0.5+0.4 *np.tanh((-(X[:,0]-50)/10))) * ((X[:,0])+273.15)\n",
    "    Rad[:,4] = Cp * Ci\n",
    "    return Rad"
   ]
  },
  {
   "cell_type": "code",
   "execution_count": 20,
   "metadata": {},
   "outputs": [],
   "source": [
    "def StupidObsVer1(X):\n",
    "    hc = 10 #TODO\n",
    "    a =((0.2+X[:,1])/2+np.tanh(X[:,0]/(9.5*hc)) * (0.2-X[:,1])/2)\n",
    "    Ci = 1-((0.8-(0.5*X[:,1]+.5*a))/0.6)\n",
    "    Cp = (1 - a / X[:,1])\n",
    "    Csat = np.maximum(0,Ci-Cp)\n",
    "    return Csat"
   ]
  },
  {
   "cell_type": "code",
   "execution_count": 27,
   "metadata": {},
   "outputs": [],
   "source": [
    "def EW09default(x0,t0,t1,Fc):\n",
    "    return eng.Mdefault(eng.transpose(ml.double(x0)),float(t0),float(t1),float(Fc))"
   ]
  },
  {
   "cell_type": "code",
   "execution_count": 5,
   "metadata": {},
   "outputs": [
    {
     "data": {
      "text/plain": [
       "array([2.07589573e+02, 2.03636142e-01])"
      ]
     },
     "execution_count": 5,
     "metadata": {},
     "output_type": "execute_result"
    }
   ],
   "source": [
    "x0 = np.array([200,0.75])\n",
    "t0 = 0.\n",
    "t1 = 1.\n",
    "Fc = 10.\n",
    "Model.EW09default(x0,t0,t1)"
   ]
  },
  {
   "cell_type": "code",
   "execution_count": 10,
   "metadata": {},
   "outputs": [
    {
     "data": {
      "text/plain": [
       "matlab.double([[207.5895731935993,0.203636142256804]])"
      ]
     },
     "execution_count": 10,
     "metadata": {},
     "output_type": "execute_result"
    }
   ],
   "source": [
    "Model.EW09(x0,t0,t1)"
   ]
  },
  {
   "cell_type": "code",
   "execution_count": 9,
   "metadata": {},
   "outputs": [],
   "source": [
    "x0 = np.array(x0)"
   ]
  },
  {
   "cell_type": "code",
   "execution_count": 25,
   "metadata": {},
   "outputs": [
    {
     "data": {
      "text/plain": [
       "True"
      ]
     },
     "execution_count": 25,
     "metadata": {},
     "output_type": "execute_result"
    }
   ],
   "source": [
    "isinstance(x0,np.ndarray)"
   ]
  },
  {
   "cell_type": "code",
   "execution_count": 24,
   "metadata": {},
   "outputs": [
    {
     "data": {
      "text/plain": [
       "True"
      ]
     },
     "execution_count": 24,
     "metadata": {},
     "output_type": "execute_result"
    }
   ],
   "source": [
    "type(x0) is np.ndarray"
   ]
  },
  {
   "cell_type": "code",
   "execution_count": 21,
   "metadata": {},
   "outputs": [],
   "source": [
    "X = np.array([[0.6555,0.9502],\n",
    "    [0.1712,0.0344],\n",
    "    [0.7060,0.4387],\n",
    "    [0.0318,0.3816],\n",
    "    [0.2769,0.7655],\n",
    "    [0.0462,0.7952],\n",
    "    [0.0971,0.1869],\n",
    "    [0.8235,0.4898],\n",
    "    [0.6948,0.4456],\n",
    "    [0.3171,0.6463]])"
   ]
  },
  {
   "cell_type": "code",
   "execution_count": 23,
   "metadata": {},
   "outputs": [],
   "source": [
    "Y = TrueObsVer1(X)"
   ]
  },
  {
   "cell_type": "code",
   "execution_count": 24,
   "metadata": {},
   "outputs": [
    {
     "data": {
      "text/plain": [
       "array([[ 6.22856100e-01,  3.77688149e-01,  3.75281518e-01,\n",
       "         2.46413613e+02,  3.71882201e-01],\n",
       "       [ 5.88928000e-03, -8.29492142e-02,  2.00901855e-02,\n",
       "         2.45978808e+02,  4.98842238e-01],\n",
       "       [ 3.09722200e-01,  1.20236943e-01,  2.24834919e-01,\n",
       "         2.46458946e+02,  8.15747170e-02],\n",
       "       [ 1.21348800e-02,  9.08303941e-02,  9.24647347e-03,\n",
       "         2.45853635e+02,  5.40256784e-02],\n",
       "       [ 2.11966950e-01,  2.83574140e-01,  1.33445271e-01,\n",
       "         2.46073714e+02,  2.61602503e-01],\n",
       "       [ 3.67382400e-02,  2.97744728e-01,  2.29824336e-02,\n",
       "         2.45866566e+02,  2.78528883e-01],\n",
       "       [ 1.81479900e-02, -6.55669479e-03,  1.87846451e-02,\n",
       "         2.45912272e+02,  5.74260553e-04],\n",
       "       [ 4.03350300e-01,  1.46156023e-01,  2.82990815e-01,\n",
       "         2.46564418e+02,  1.07782850e-01],\n",
       "       [ 3.09602880e-01,  1.23698104e-01,  2.23657437e-01,\n",
       "         2.46448892e+02,  8.50151254e-02],\n",
       "       [ 2.04941730e-01,  2.23894848e-01,  1.33944674e-01,\n",
       "         2.46109808e+02,  1.93047138e-01]])"
      ]
     },
     "execution_count": 24,
     "metadata": {},
     "output_type": "execute_result"
    }
   ],
   "source": [
    "Y"
   ]
  },
  {
   "cell_type": "code",
   "execution_count": 25,
   "metadata": {},
   "outputs": [
    {
     "data": {
      "text/plain": [
       "array([0.53811042, 2.20443871, 0.02356033, 0.        , 0.33574519,\n",
       "       0.36945192, 0.01871188, 0.06280392, 0.0286526 , 0.21082872])"
      ]
     },
     "execution_count": 25,
     "metadata": {},
     "output_type": "execute_result"
    }
   ],
   "source": [
    "Z = StupidObsVer1(X)\n",
    "Z"
   ]
  },
  {
   "cell_type": "code",
   "execution_count": null,
   "metadata": {},
   "outputs": [],
   "source": []
  }
 ],
 "metadata": {
  "kernelspec": {
   "display_name": "Python 3",
   "language": "python",
   "name": "python3"
  },
  "language_info": {
   "codemirror_mode": {
    "name": "ipython",
    "version": 3
   },
   "file_extension": ".py",
   "mimetype": "text/x-python",
   "name": "python",
   "nbconvert_exporter": "python",
   "pygments_lexer": "ipython3",
   "version": "3.6.6"
  }
 },
 "nbformat": 4,
 "nbformat_minor": 2
}
