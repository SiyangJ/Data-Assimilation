{
 "cells": [
  {
   "cell_type": "code",
   "execution_count": 1,
   "metadata": {},
   "outputs": [],
   "source": [
    "import numpy as np\n",
    "import pickle as pkl\n",
    "import pandas as pd\n",
    "from copy import deepcopy\n",
    "import matplotlib.pyplot as plt\n",
    "%matplotlib inline\n",
    "\n",
    "from statsmodels.stats.weightstats import DescrStatsW"
   ]
  },
  {
   "cell_type": "code",
   "execution_count": 2,
   "metadata": {},
   "outputs": [],
   "source": [
    "data_dir = '/Volumes/BOY/DANewData/'"
   ]
  },
  {
   "cell_type": "code",
   "execution_count": 3,
   "metadata": {},
   "outputs": [],
   "source": [
    "all_data = data_dir + 'DATA_fc=60.pkl'"
   ]
  },
  {
   "cell_type": "code",
   "execution_count": 4,
   "metadata": {},
   "outputs": [
    {
     "name": "stderr",
     "output_type": "stream",
     "text": [
      "/Library/Frameworks/Python.framework/Versions/3.6/lib/python3.6/site-packages/pandas/core/indexes/base.py:162: FutureWarning: the 'labels' keyword is deprecated, use 'codes' instead\n",
      "  return cls.__new__(cls, **d)\n"
     ]
    }
   ],
   "source": [
    "pd_all_data = pd.read_pickle(all_data)"
   ]
  },
  {
   "cell_type": "code",
   "execution_count": 5,
   "metadata": {},
   "outputs": [],
   "source": [
    "state_data = pd_all_data[0.7000000000000002][-200]['State']"
   ]
  },
  {
   "cell_type": "code",
   "execution_count": 6,
   "metadata": {},
   "outputs": [],
   "source": [
    "state_data = np.vstack(state_data.values)"
   ]
  },
  {
   "cell_type": "code",
   "execution_count": 7,
   "metadata": {},
   "outputs": [],
   "source": [
    "obs_data = np.vstack(pd_all_data[0.7000000000000002][-200][1].values)"
   ]
  },
  {
   "cell_type": "code",
   "execution_count": 8,
   "metadata": {},
   "outputs": [
    {
     "data": {
      "text/plain": [
       "(1000, 5)"
      ]
     },
     "execution_count": 8,
     "metadata": {},
     "output_type": "execute_result"
    }
   ],
   "source": [
    "obs_data.shape"
   ]
  },
  {
   "cell_type": "code",
   "execution_count": 9,
   "metadata": {},
   "outputs": [],
   "source": [
    "obs_data_true = np.vstack(pd_all_data[0.7000000000000002][-200][0].values)"
   ]
  },
  {
   "cell_type": "code",
   "execution_count": 10,
   "metadata": {},
   "outputs": [],
   "source": [
    "tinit=0\n",
    "tdelta=0.05\n"
   ]
  },
  {
   "cell_type": "code",
   "execution_count": 11,
   "metadata": {},
   "outputs": [],
   "source": [
    "import numpy as np\n",
    "import config\n",
    "import Model\n",
    "import ObservationOperator\n",
    "\n",
    "CFP = config.CFP\n",
    "\n",
    "TM = getattr(Model,CFP['TrueModel']['model_equation'])\n",
    "# Forcast model\n",
    "TF = getattr(Model,CFP['RunModel']['model_equation'])\n",
    "Hm = getattr(ObservationOperator,CFP['DataAssimilation']['observation_operator'])\n",
    "\n",
    "linear = CFP['DataAssimilation'].getboolean('linear')\n",
    "random_seed = CFP['DataAssimilation'].getfloat('random_seed')\n",
    "\n",
    "number_observation = 200\n",
    "dimension_state = CFP['RunModel'].getint('dimension')\n",
    "dimension_observation = CFP['ObservationGeneration'].getint('dimension_observation')\n",
    "number_ensemble = 100\n",
    "\n",
    "#data = np.load(CFP['DataAssimilation']['data_source'])\n",
    "#obs  = np.load(CFP['DataAssimilation']['observation_source'])\n",
    "\n",
    "truestate = state_data[:number_observation,:]\n",
    "tinit = 0.0\n",
    "tdelta = 0.05\n",
    "tobs = np.arange(number_observation) * tdelta + tinit\n",
    "\n",
    "trueobs = obs_data_true[:number_observation,:]\n",
    "yobs = obs_data[:number_observation,:]\n",
    "\n",
    "sigma_init = CFP['DataAssimilation'].getfloat('sigma_init')\n",
    "\n",
    "inflation = CFP['DataAssimilation'].getfloat('inflation')\n",
    "\n",
    "value_bound_upper = config.GetArray('RunModel','value_bound_upper')\n",
    "value_bound_lower = config.GetArray('RunModel','value_bound_lower')\n",
    "\n",
    "def resampleMultinomial(W):\n",
    "\n",
    "    M = len(W)\n",
    "    Q = np.cumsum(W)\n",
    "    Q[:-1]=1\n",
    "\n",
    "    indx = np.zeros(M,dtype=int)\n",
    "    i=0\n",
    "    while i<M:\n",
    "        sampl = np.random.uniform(0,1)\n",
    "        j=0\n",
    "        while Q[j]<sampl:\n",
    "            j=j+1\n",
    "        indx[i]=j\n",
    "        i=i+1\n",
    "    return indx\n",
    "        \n",
    "nobs = number_observation\n",
    "dobs = dimension_observation\n",
    "ndim = dimension_state\n",
    "nens = number_ensemble\n",
    "\n",
    "resampcount = 0\n",
    "\n",
    "resamp_thresh = 0.5\n",
    "wiggle = 0.1\n",
    "\n",
    "## Containers\n",
    "xfm = np.zeros([nobs, ndim])\n",
    "xam = np.zeros([nobs, ndim])\n",
    "xfcov = np.zeros([nobs, ndim, ndim])\n",
    "xacov = np.zeros([nobs, ndim, ndim])\n",
    "\n",
    "yfm = np.zeros([nobs, dobs])\n",
    "yfcov = np.zeros([nobs, dobs, dobs])\n",
    "\n",
    "xinit = truestate[0,:]\n",
    "sigmainit = sigma_init\n",
    "\n",
    "## set the initial mean and covariance:\n",
    "\n",
    "sigma = xinit * np.clip(sigmainit * np.random.randn(*xinit.shape),-0.2,0.2)\n",
    "\n",
    "xfm[0,:] = xam[0,:] = xinit + sigma\n",
    "xfcov[0,:,:] = xacov[0,:,:] = np.identity(ndim) * (sigma ** 2)\n",
    "\n",
    "phist = np.zeros([nobs,nens,ndim])\n",
    "whist = np.zeros([nobs,nens])\n",
    "\n",
    "## Generate initial ensemble\n",
    "xens = np.random.multivariate_normal(xam[0,:], xacov[0,:,:], nens)\n",
    "xweights = np.ones(nens)/nens\n",
    "\n",
    "xens = np.clip(xens,value_bound_lower,value_bound_upper)\n",
    "\n",
    "phist[0,:,:] = xens\n",
    "whist[0,:] = xweights"
   ]
  },
  {
   "cell_type": "code",
   "execution_count": 12,
   "metadata": {},
   "outputs": [
    {
     "data": {
      "text/plain": [
       "(100, 2)"
      ]
     },
     "execution_count": 12,
     "metadata": {},
     "output_type": "execute_result"
    }
   ],
   "source": [
    "xens.shape"
   ]
  },
  {
   "cell_type": "code",
   "execution_count": 13,
   "metadata": {},
   "outputs": [
    {
     "name": "stdout",
     "output_type": "stream",
     "text": [
      "1\n",
      "-0.09183351360702516\n",
      "Resampling the 1th time\n",
      "2\n",
      "-15.185427026139699\n",
      "Resampling the 2th time\n",
      "3\n",
      "-13.165653765945583\n",
      "Resampling the 3th time\n",
      "4\n",
      "-14.543701276082839\n",
      "5\n",
      "-14.678742716335833\n",
      "Resampling the 4th time\n",
      "6\n",
      "-15.15073933958491\n",
      "7\n",
      "-16.662095346900212\n",
      "8\n",
      "-18.44747773234812\n",
      "Resampling the 5th time\n",
      "9\n",
      "-23.485742352146183\n",
      "10\n",
      "-25.210827839342834\n",
      "11\n",
      "-35.14890710292479\n",
      "12\n",
      "-39.890609428027005\n",
      "Resampling the 6th time\n",
      "13\n",
      "-45.423156409237095\n",
      "Resampling the 7th time\n",
      "14\n",
      "-42.8237507751111\n",
      "Resampling the 8th time\n",
      "15\n",
      "-35.659241490001\n",
      "Resampling the 9th time\n",
      "16\n",
      "-46.59622772919308\n",
      "Resampling the 10th time\n",
      "17\n",
      "-40.54227829137924\n",
      "Resampling the 11th time\n",
      "18\n",
      "-41.823164636994235\n",
      "Resampling the 12th time\n",
      "19\n",
      "-35.97149434388724\n",
      "Resampling the 13th time\n",
      "20\n",
      "-28.679559720465214\n",
      "Resampling the 14th time\n",
      "21\n",
      "-28.848894626436483\n",
      "Resampling the 15th time\n",
      "22\n",
      "-15.21896064930277\n",
      "Resampling the 16th time\n",
      "23\n",
      "-31.115061178471137\n",
      "Resampling the 17th time\n",
      "24\n",
      "-50.5927740604958\n",
      "Resampling the 18th time\n",
      "25\n",
      "-44.1596285242868\n",
      "Resampling the 19th time\n",
      "26\n",
      "-89.91815029108355\n",
      "Resampling the 20th time\n",
      "27\n",
      "-71.11595897818985\n",
      "Resampling the 21th time\n",
      "28\n",
      "-64.15810762025728\n",
      "Resampling the 22th time\n",
      "29\n",
      "-90.4483628671187\n",
      "Resampling the 23th time\n",
      "30\n",
      "-198.1385677217612\n",
      "Resampling the 24th time\n",
      "31\n",
      "-169.4610543201075\n",
      "Resampling the 25th time\n",
      "32\n",
      "-297.660546276177\n",
      "Resampling the 26th time\n",
      "33\n",
      "-472.8514773638962\n",
      "Resampling the 27th time\n",
      "34\n",
      "-841.8332655000461\n",
      "Resampling the 28th time\n",
      "35\n",
      "-482.731876927505\n",
      "Resampling the 29th time\n",
      "36\n",
      "-268.8202870217264\n",
      "Resampling the 30th time\n",
      "37\n",
      "-292.46750453399244\n",
      "Resampling the 31th time\n",
      "38\n",
      "-221.8417821276043\n",
      "Resampling the 32th time\n",
      "39\n",
      "-338.1867340362021\n",
      "Resampling the 33th time\n",
      "40\n",
      "-67.69112830280021\n",
      "Resampling the 34th time\n",
      "41\n",
      "-293.2761687032781\n",
      "Resampling the 35th time\n",
      "42\n",
      "-279.3300218569904\n",
      "Resampling the 36th time\n",
      "43\n",
      "-5658.334351750745\n",
      "Resampling the 37th time\n",
      "44\n",
      "-5506.4052573298\n",
      "Resampling the 38th time\n",
      "45\n",
      "-5883.107627377014\n",
      "Resampling the 39th time\n",
      "46\n",
      "-15022.510241759424\n",
      "Resampling the 40th time\n",
      "47\n",
      "-1.3435906712068813e+25\n",
      "Resampling the 41th time\n",
      "48\n",
      "-1.5811668528928656e+25\n",
      "Resampling the 42th time\n",
      "49\n",
      "-1.5792804056452892e+25\n",
      "Resampling the 43th time\n",
      "50\n",
      "-1.5830509037589214e+25\n",
      "Resampling the 44th time\n",
      "51\n",
      "-1.5783646085913737e+25\n",
      "Resampling the 45th time\n",
      "52\n",
      "-1.5771968555318532e+25\n",
      "Resampling the 46th time\n",
      "53\n",
      "-1.5773796362854767e+25\n",
      "Resampling the 47th time\n",
      "54\n",
      "-1.5785126285682879e+25\n",
      "Resampling the 48th time\n",
      "55\n",
      "-1.5786944249985031e+25\n",
      "Resampling the 49th time\n",
      "56\n",
      "-1.5738327840391447e+25\n",
      "Resampling the 50th time\n",
      "57\n",
      "-1.5683270090765407e+25\n",
      "Resampling the 51th time\n",
      "58\n",
      "-1.568742506054399e+25\n",
      "Resampling the 52th time\n",
      "59\n",
      "-1.5671463550030457e+25\n",
      "Resampling the 53th time\n",
      "60\n",
      "-1.58712472426688e+25\n",
      "Resampling the 54th time\n",
      "61\n",
      "-2.9007036918646308e+25\n",
      "Resampling the 55th time\n",
      "62\n",
      "-2.9022992351749854e+25\n",
      "Resampling the 56th time\n",
      "63\n",
      "-2.895152207451122e+25\n",
      "Resampling the 57th time\n",
      "64\n",
      "-2.90640045014438e+25\n",
      "Resampling the 58th time\n",
      "65\n",
      "-2.901581764395039e+25\n",
      "Resampling the 59th time\n",
      "66\n",
      "-2.894921413803185e+25\n",
      "Resampling the 60th time\n",
      "67\n",
      "-2.9009703114224184e+25\n",
      "Resampling the 61th time\n",
      "68\n",
      "-2.899719784954494e+25\n",
      "Resampling the 62th time\n",
      "69\n",
      "-5.132599198049082e+25\n",
      "Resampling the 63th time\n",
      "70\n",
      "-5.151026045785888e+25\n",
      "Resampling the 64th time\n",
      "71\n",
      "-5.150553477372153e+25\n",
      "Resampling the 65th time\n",
      "72\n",
      "-5.17065617929946e+25\n",
      "Resampling the 66th time\n",
      "73\n",
      "-5.156037624321357e+25\n",
      "Resampling the 67th time\n",
      "74\n",
      "-5.164780346238967e+25\n",
      "Resampling the 68th time\n",
      "75\n",
      "-5.166013878814338e+25\n",
      "Resampling the 69th time\n",
      "76\n",
      "-5.180206078030857e+25\n",
      "Resampling the 70th time\n",
      "77\n",
      "-5.178567567926725e+25\n",
      "Resampling the 71th time\n",
      "78\n",
      "-5.18186408429364e+25\n",
      "Resampling the 72th time\n",
      "79\n",
      "-5.1748325288082195e+25\n",
      "Resampling the 73th time\n",
      "80\n",
      "-5.154157283483758e+25\n",
      "Resampling the 74th time\n",
      "81\n",
      "-5.15632343470625e+25\n",
      "Resampling the 75th time\n",
      "82\n",
      "-5.148470727647215e+25\n",
      "Resampling the 76th time\n",
      "83\n",
      "-5.153621106810167e+25\n",
      "Resampling the 77th time\n",
      "84\n",
      "-5.136985321608816e+25\n",
      "Resampling the 78th time\n",
      "85\n",
      "-5.13441084680559e+25\n",
      "Resampling the 79th time\n",
      "86\n",
      "-5.1385476018353486e+25\n",
      "Resampling the 80th time\n",
      "87\n",
      "-5.153242184669541e+25\n",
      "Resampling the 81th time\n",
      "88\n",
      "-5.1381547899145175e+25\n",
      "Resampling the 82th time\n",
      "89\n",
      "-5.137091665918699e+25\n",
      "Resampling the 83th time\n",
      "90\n",
      "-5.141489859748289e+25\n",
      "Resampling the 84th time\n",
      "91\n",
      "-5.142299336745428e+25\n",
      "Resampling the 85th time\n",
      "92\n",
      "-5.148524827120217e+25\n",
      "Resampling the 86th time\n",
      "93\n",
      "-5.158207131238255e+25\n",
      "Resampling the 87th time\n",
      "94\n",
      "-5.1550246427918045e+25\n",
      "Resampling the 88th time\n",
      "95\n",
      "-5.144965841648738e+25\n",
      "Resampling the 89th time\n",
      "96\n",
      "-5.140503546693563e+25\n",
      "Resampling the 90th time\n",
      "97\n",
      "-5.156106231869043e+25\n",
      "Resampling the 91th time\n",
      "98\n",
      "-5.169426159131515e+25\n",
      "Resampling the 92th time\n",
      "99\n",
      "-5.172283659983433e+25\n",
      "Resampling the 93th time\n",
      "100\n",
      "-5.192258121660339e+25\n",
      "Resampling the 94th time\n",
      "101\n",
      "-5.190939735483914e+25\n",
      "Resampling the 95th time\n",
      "102\n",
      "-5.1977222162474555e+25\n",
      "Resampling the 96th time\n",
      "103\n",
      "-5.170788317602273e+25\n",
      "Resampling the 97th time\n",
      "104\n",
      "-5.195206894398147e+25\n",
      "Resampling the 98th time\n",
      "105\n",
      "-5.185796706713222e+25\n",
      "Resampling the 99th time\n",
      "106\n",
      "-5.173797291382002e+25\n",
      "Resampling the 100th time\n",
      "107\n",
      "-5.178779428215029e+25\n",
      "Resampling the 101th time\n",
      "108\n",
      "-5.18283743160292e+25\n",
      "Resampling the 102th time\n",
      "109\n",
      "-5.203900138183033e+25\n",
      "Resampling the 103th time\n",
      "110\n",
      "-5.202974439963452e+25\n",
      "Resampling the 104th time\n",
      "111\n",
      "-5.225142947186787e+25\n",
      "Resampling the 105th time\n",
      "112\n",
      "-5.217052677453868e+25\n",
      "Resampling the 106th time\n",
      "113\n",
      "-5.217982484748852e+25\n",
      "Resampling the 107th time\n",
      "114\n",
      "-5.243700524351242e+25\n",
      "Resampling the 108th time\n",
      "115\n",
      "-5.243962392318166e+25\n",
      "Resampling the 109th time\n",
      "116\n",
      "-5.241419279772342e+25\n",
      "Resampling the 110th time\n",
      "117\n",
      "-5.2427487756421254e+25\n",
      "Resampling the 111th time\n",
      "118\n",
      "-5.26328089401518e+25\n",
      "Resampling the 112th time\n",
      "119\n",
      "-5.251596685064924e+25\n",
      "Resampling the 113th time\n",
      "120\n",
      "-5.2378893605356355e+25\n",
      "Resampling the 114th time\n",
      "121\n",
      "-5.2544025994541935e+25\n",
      "Resampling the 115th time\n",
      "122\n",
      "-5.260581271869997e+25\n",
      "Resampling the 116th time\n",
      "123\n",
      "-5.255412698499563e+25\n",
      "Resampling the 117th time\n",
      "124\n",
      "-5.245972182800638e+25\n",
      "Resampling the 118th time\n",
      "125\n",
      "-5.255046991040347e+25\n",
      "Resampling the 119th time\n",
      "126\n",
      "-5.2514291010197485e+25\n",
      "Resampling the 120th time\n",
      "127\n",
      "-5.241783338833608e+25\n",
      "Resampling the 121th time\n",
      "128\n",
      "-5.222555508842124e+25\n",
      "Resampling the 122th time\n",
      "129\n",
      "-5.22353966241557e+25\n",
      "Resampling the 123th time\n",
      "130\n",
      "-5.217494229321427e+25\n",
      "Resampling the 124th time\n",
      "131\n",
      "-5.196440580611036e+25\n",
      "Resampling the 125th time\n",
      "132\n",
      "-5.204404143290856e+25\n",
      "Resampling the 126th time\n",
      "133\n",
      "-5.210606037304979e+25\n",
      "Resampling the 127th time\n",
      "134\n",
      "-5.213078691975672e+25\n",
      "Resampling the 128th time\n",
      "135\n",
      "-5.2152072926136855e+25\n",
      "Resampling the 129th time\n",
      "136\n",
      "-5.216906655354007e+25\n",
      "Resampling the 130th time\n",
      "137\n",
      "-5.207177693291719e+25\n",
      "Resampling the 131th time\n",
      "138\n",
      "-5.222411272825557e+25\n",
      "Resampling the 132th time\n",
      "139\n",
      "-5.213971887540243e+25\n",
      "Resampling the 133th time\n",
      "140\n",
      "-5.189179679896819e+25\n",
      "Resampling the 134th time\n",
      "141\n",
      "-5.190915435912528e+25\n",
      "Resampling the 135th time\n",
      "142\n",
      "-5.2067706849371755e+25\n",
      "Resampling the 136th time\n",
      "143\n",
      "-5.2098292501763244e+25\n",
      "Resampling the 137th time\n",
      "144\n",
      "-5.207983314188967e+25\n",
      "Resampling the 138th time\n",
      "145\n",
      "-5.2235561049332785e+25\n",
      "Resampling the 139th time\n",
      "146\n",
      "-5.237057135313962e+25\n",
      "Resampling the 140th time\n",
      "147\n",
      "-5.215958427583836e+25\n",
      "Resampling the 141th time\n",
      "148\n",
      "-5.206907467851787e+25\n",
      "Resampling the 142th time\n",
      "149\n",
      "-5.195619467010377e+25\n",
      "Resampling the 143th time\n",
      "150\n",
      "-5.199135243292074e+25\n",
      "Resampling the 144th time\n",
      "151\n",
      "-5.210548802889967e+25\n",
      "Resampling the 145th time\n",
      "152\n",
      "-5.218413331710282e+25\n",
      "Resampling the 146th time\n",
      "153\n",
      "-5.222708836969887e+25\n",
      "Resampling the 147th time\n",
      "154\n",
      "-5.213675901924867e+25\n",
      "Resampling the 148th time\n",
      "155\n",
      "-5.200462771070988e+25\n",
      "Resampling the 149th time\n",
      "156\n",
      "-5.2133483530072545e+25\n",
      "Resampling the 150th time\n",
      "157\n",
      "-5.221561779116445e+25\n",
      "Resampling the 151th time\n",
      "158\n",
      "-5.2236109869485505e+25\n",
      "Resampling the 152th time\n",
      "159\n",
      "-5.21755331743232e+25\n",
      "Resampling the 153th time\n",
      "160\n",
      "-5.204844859552601e+25\n",
      "Resampling the 154th time\n",
      "161\n",
      "-5.217963836157645e+25\n",
      "Resampling the 155th time\n",
      "162\n",
      "-5.214963248788481e+25\n",
      "Resampling the 156th time\n",
      "163\n",
      "-5.209814323005597e+25\n",
      "Resampling the 157th time\n",
      "164\n",
      "-5.195817713004934e+25\n",
      "Resampling the 158th time\n",
      "165\n",
      "-5.194113470186072e+25\n",
      "Resampling the 159th time\n",
      "166\n"
     ]
    },
    {
     "name": "stdout",
     "output_type": "stream",
     "text": [
      "-5.212239388013392e+25\n",
      "Resampling the 160th time\n",
      "167\n",
      "-5.205804334681159e+25\n",
      "Resampling the 161th time\n",
      "168\n",
      "-5.203313778532723e+25\n",
      "Resampling the 162th time\n",
      "169\n",
      "-5.1961751500781935e+25\n",
      "Resampling the 163th time\n",
      "170\n",
      "-5.18803795879588e+25\n",
      "Resampling the 164th time\n",
      "171\n",
      "-5.195106982209068e+25\n",
      "Resampling the 165th time\n",
      "172\n",
      "-5.205534490646851e+25\n",
      "Resampling the 166th time\n",
      "173\n",
      "-5.192534506078876e+25\n",
      "Resampling the 167th time\n",
      "174\n",
      "-5.2078796589475985e+25\n",
      "Resampling the 168th time\n",
      "175\n",
      "-5.2204966634161595e+25\n",
      "Resampling the 169th time\n",
      "176\n",
      "-5.2265492223658395e+25\n",
      "Resampling the 170th time\n",
      "177\n",
      "-5.21096701393151e+25\n",
      "Resampling the 171th time\n",
      "178\n",
      "-5.230350137894793e+25\n",
      "Resampling the 172th time\n",
      "179\n",
      "-5.236580802856194e+25\n",
      "Resampling the 173th time\n",
      "180\n",
      "-5.235178133839575e+25\n",
      "Resampling the 174th time\n",
      "181\n",
      "-5.238388290915854e+25\n",
      "Resampling the 175th time\n",
      "182\n",
      "-5.237587544262366e+25\n",
      "Resampling the 176th time\n",
      "183\n",
      "-5.235566089882904e+25\n",
      "Resampling the 177th time\n",
      "184\n",
      "-5.237301535287895e+25\n",
      "Resampling the 178th time\n",
      "185\n",
      "-5.212785120265318e+25\n",
      "Resampling the 179th time\n",
      "186\n",
      "-5.211199828853177e+25\n",
      "Resampling the 180th time\n",
      "187\n",
      "-5.19478142238027e+25\n",
      "Resampling the 181th time\n",
      "188\n",
      "-5.19291411838134e+25\n",
      "Resampling the 182th time\n",
      "189\n",
      "-5.183072904066787e+25\n",
      "Resampling the 183th time\n",
      "190\n",
      "-5.195473161783173e+25\n",
      "Resampling the 184th time\n",
      "191\n",
      "-5.2238700390895645e+25\n",
      "Resampling the 185th time\n",
      "192\n",
      "-5.218678032255468e+25\n",
      "Resampling the 186th time\n",
      "193\n",
      "-5.221280013549587e+25\n",
      "Resampling the 187th time\n",
      "194\n",
      "-5.221937093628751e+25\n",
      "Resampling the 188th time\n",
      "195\n",
      "-5.217085037018042e+25\n",
      "Resampling the 189th time\n",
      "196\n",
      "-5.223998119776184e+25\n",
      "Resampling the 190th time\n",
      "197\n",
      "-5.2424218371302835e+25\n",
      "Resampling the 191th time\n",
      "198\n",
      "-5.2342971408246305e+25\n",
      "Resampling the 192th time\n",
      "199\n",
      "-5.261016478244632e+25\n",
      "Resampling the 193th time\n"
     ]
    },
    {
     "name": "stderr",
     "output_type": "stream",
     "text": [
      "/Library/Frameworks/Python.framework/Versions/3.6/lib/python3.6/site-packages/numpy/core/fromnumeric.py:3118: RuntimeWarning: Mean of empty slice.\n",
      "  out=out, **kwargs)\n",
      "/Library/Frameworks/Python.framework/Versions/3.6/lib/python3.6/site-packages/numpy/core/_methods.py:78: RuntimeWarning: invalid value encountered in true_divide\n",
      "  ret, rcount, out=ret, casting='unsafe', subok=False)\n"
     ]
    },
    {
     "data": {
      "text/plain": [
       "'\\nreturn (xfm, xam,\\n        xfcov, xacov,\\n    xferravgxt,   xaerravgxt,\\n        xferr10avgxt, xaerr10avgxt,\\n        xferr30avgxt, xaerr30avgxt)\\n'"
      ]
     },
     "execution_count": 13,
     "metadata": {},
     "output_type": "execute_result"
    }
   ],
   "source": [
    "## Iterate for each observation\n",
    "for ii in np.arange(1,nobs):\n",
    "\n",
    "    print(ii)\n",
    "    ## How to inflate???\n",
    "    Robsmat = np.diag(trueobs[1,:]**2 * 0.2)\n",
    "    Robsmat_inv = np.linalg.pinv(Robsmat)\n",
    "\n",
    "    ## Forecast\n",
    "    for jj in np.arange(nens):\n",
    "        xens[jj,:] = TF(xens[jj,:], tobs[ii-1], tobs[ii])\n",
    "\n",
    "    ## Forecast mean and cov\n",
    "    w_stats = DescrStatsW(xens,weights=xweights)\n",
    "    xfm[ii,:] = w_stats.mean\n",
    "    xfcov[ii,:,:] = w_stats.cov\n",
    "\n",
    "    ## Observations generated from forecast\n",
    "    ## Estimating the covariances with sample covariance\n",
    "    yens = Hm(xens)\n",
    "    w_stats = DescrStatsW(yens,weights=xweights)\n",
    "    yfm[ii,:] = w_stats.mean\n",
    "    yfcov[ii,:,:] = w_stats.cov\n",
    "\n",
    "    innov = yens - yobs[ii,:]\n",
    "\n",
    "    Wexp = np.zeros(nens)\n",
    "    for _ii in range(nens):\n",
    "        Wexp[_ii] = -0.5*innov[_ii,:] @ Robsmat_inv @ innov[_ii,:].T\n",
    "    \n",
    "    #Wexp =  -0.5*innov @ Robsmat_inv @ innov.T\n",
    "    #Wexp = np.diag(Wexp)\n",
    "    Wmax = np.max(Wexp)\n",
    "    Wexp = Wexp - Wmax\n",
    "    print(Wmax)\n",
    "    W = xweights * np.exp(Wexp)\n",
    "    W = W/np.sum(W)\n",
    "\n",
    "    ##test for resampling\n",
    "    if 1/np.sum(W ** 2)/nens < resamp_thresh:\n",
    "        resampcount += 1\n",
    "        print('Resampling the %dth time'%resampcount)\n",
    "        sampIndex = resampleMultinomial(W)\n",
    "        xens = xens[sampIndex,:] + wiggle*np.random.normal(0,1,size=(nens,ndim))\n",
    "        W = np.ones(nens)/nens;\n",
    "\n",
    "    xweights = W\n",
    "\n",
    "    phist[ii,:,:] = xens\n",
    "    whist[ii,:] = xweights\n",
    "    \n",
    "    ## Analysis mean and cov\n",
    "    w_stats = DescrStatsW(xens,weights=xweights)\n",
    "    xam[ii,:] = w_stats.mean\n",
    "    xacov[ii,:,:] = w_stats.cov\n",
    "\n",
    "## Calculate statistics\n",
    "# Absolute errors\n",
    "xferr = np.abs(xfm - truestate)\n",
    "xaerr = np.abs(xam - truestate)\n",
    "\n",
    "xferr10 = xferr[:,0:10]\n",
    "xferr30 = xferr[:,10:]\n",
    "xaerr10 = xaerr[:,0:10]\n",
    "xaerr30 = xaerr[:,10:]\n",
    "\n",
    "xferr10avgx = np.mean(xferr10,axis=1)\n",
    "xaerr10avgx = np.mean(xaerr10,axis=1)\n",
    "\n",
    "xferr30avgx = np.mean(xferr30,axis=1)\n",
    "xaerr30avgx = np.mean(xaerr30,axis=1)\n",
    "\n",
    "xferravgx = np.mean(xferr,axis=1)\n",
    "xaerravgx = np.mean(xaerr,axis=1)\n",
    "\n",
    "avgstp = 30\n",
    "xferravgt = np.mean(xferr[avgstp:,:],axis=0)\n",
    "xferravgxt = np.mean(xferravgt)\n",
    "\n",
    "xaerravgt = np.mean(xaerr[avgstp:,:],axis=0)\n",
    "xaerravgxt = np.mean(xaerravgt)\n",
    "\n",
    "xferr10avgxt = np.mean(xferr10avgx)\n",
    "xaerr10avgxt = np.mean(xaerr10avgx)\n",
    "\n",
    "xferr30avgxt = np.mean(xferr30avgx)\n",
    "xaerr30avgxt = np.mean(xaerr30avgx)\n",
    "\n",
    "'''\n",
    "np.savez(data_dir,\n",
    "            ## Paramters\n",
    "            # Notebook usage flags\n",
    "            DESC=DESC,\n",
    "            RSEED=RSEED,\n",
    "            HTYPE=HTYPE,\n",
    "            HERROR=HERROR,\n",
    "            LINEAR=LINEAR,\n",
    "            FORECAST_ERROR=FORECAST_ERROR,\n",
    "            INFLATION=INFLATION,\n",
    "            # Model parameters\n",
    "            ndim=ndim,\n",
    "            pars=pars,\n",
    "            # Observation paramters\n",
    "            nobs=nobs,\n",
    "            deltaobs=deltaobs,\n",
    "            dobs=dobs,\n",
    "            Hmat=Hmat,\n",
    "            sigmaobs=sigmaobs,\n",
    "\n",
    "            ## DA paramters\n",
    "            infl_lin=infl_lin,\n",
    "            infl_nlin=infl_nlin,\n",
    "            sigmainit=sigmainit,\n",
    "            nens=nens,\n",
    "            ferr=ferr,\n",
    "\n",
    "            ## Truth\n",
    "            truestate=truestate,\n",
    "            trueobs=trueobs,\n",
    "            yobs=yobs,\n",
    "            ## Running Data\n",
    "            xfm=xfm,xfcov=xfcov,\n",
    "            xam=xam,xacov=xacov,\n",
    "            yfm=yfm,yfcov=yfcov,\n",
    "            ## Statistics\n",
    "            xferravgxt  =xferravgxt,  xaerravgxt  =xaerravgxt,\n",
    "            xferr10avgxt=xferr10avgxt,xaerr10avgxt=xaerr10avgxt,\n",
    "            xferr30avgxt=xferr30avgxt,xaerr30avgxt=xaerr30avgxt)\n",
    "'''\n",
    "'''\n",
    "return (xfm, xam,\n",
    "        xfcov, xacov,\n",
    "    xferravgxt,   xaerravgxt,\n",
    "        xferr10avgxt, xaerr10avgxt,\n",
    "        xferr30avgxt, xaerr30avgxt)\n",
    "'''"
   ]
  },
  {
   "cell_type": "code",
   "execution_count": 14,
   "metadata": {},
   "outputs": [
    {
     "data": {
      "text/plain": [
       "<matplotlib.legend.Legend at 0x1968d8860>"
      ]
     },
     "execution_count": 14,
     "metadata": {},
     "output_type": "execute_result"
    },
    {
     "data": {
      "image/png": "[encoded data removed]",
      "text/plain": [
       "<Figure size 2160x720 with 1 Axes>"
      ]
     },
     "metadata": {},
     "output_type": "display_data"
    }
   ],
   "source": [
    "_i = 0\n",
    "T = 200\n",
    "plt.figure(figsize=(30,10))\n",
    "\n",
    "lt, = plt.plot(state_data[:T,_i])\n",
    "lf, = plt.plot(xfm[:T,_i])\n",
    "la, = plt.plot(xam[:T,_i])\n",
    "\n",
    "plt.fill_between(range(T),xfm[:T,_i] - np.sqrt(xfcov[:T,_i,_i]),xfm[:T,_i] + np.sqrt(xfcov[:T,_i,_i]),alpha=0.5,color=lf.get_color())\n",
    "plt.fill_between(range(T),xam[:T,_i] - np.sqrt(xacov[:T,_i,_i]),xam[:T,_i] + np.sqrt(xacov[:T,_i,_i]),alpha=0.5,color=la.get_color())\n",
    "\n",
    "plt.legend(['true','forecast','analysis'])"
   ]
  },
  {
   "cell_type": "code",
   "execution_count": 19,
   "metadata": {},
   "outputs": [
    {
     "data": {
      "image/png": "[encoded data removed]",
      "text/plain": [
       "<Figure size 720x3600 with 10 Axes>"
      ]
     },
     "metadata": {},
     "output_type": "display_data"
    }
   ],
   "source": [
    "f,axes=plt.subplots(10,1,figsize=(10,50))\n",
    "for _t in range(10):\n",
    "    axes[_t].scatter(phist[_t,:,0],phist[_t,:,1],1e4*whist[_t,:])\n",
    "    axes[_t].set_xlim([-200,250])\n",
    "    axes[_t].set_ylim([0.1,0.9])"
   ]
  },
  {
   "cell_type": "code",
   "execution_count": 35,
   "metadata": {},
   "outputs": [
    {
     "data": {
      "text/plain": [
       "<matplotlib.collections.PathCollection at 0x1264c42e8>"
      ]
     },
     "execution_count": 35,
     "metadata": {},
     "output_type": "execute_result"
    },
    {
     "data": {
      "image/png": "[encoded data removed]",
      "text/plain": [
       "<Figure size 432x288 with 1 Axes>"
      ]
     },
     "metadata": {},
     "output_type": "display_data"
    }
   ],
   "source": [
    "_t = 46\n",
    "plt.scatter(phist[_t,:,0],phist[_t,:,1],1e4*whist[_t,:])"
   ]
  },
  {
   "cell_type": "code",
   "execution_count": 38,
   "metadata": {
    "scrolled": true
   },
   "outputs": [
    {
     "data": {
      "text/plain": [
       "array([[-18.05364136,  -1.75409009],\n",
       "       [-18.04405046,  -1.61474021],\n",
       "       [-17.88595282,  -1.52568946],\n",
       "       [-18.02278525,  -1.60319753],\n",
       "       [-18.01563438,  -1.52682087],\n",
       "       [-18.09324898,  -1.48246035],\n",
       "       [-18.02556763,  -1.58776746],\n",
       "       [-17.99811952,  -1.49408682],\n",
       "       [-17.95857509,  -1.54927389],\n",
       "       [-17.95422366,  -1.48151891],\n",
       "       [-17.84279159,  -1.5478023 ],\n",
       "       [-18.07871171,  -1.42950596],\n",
       "       [-17.999399  ,  -1.62549472],\n",
       "       [-17.93708299,  -1.49180472],\n",
       "       [-18.01523574,  -1.48919589],\n",
       "       [-18.01514806,  -1.5386426 ],\n",
       "       [-18.00581889,  -1.54478081],\n",
       "       [-17.9763985 ,  -1.46291808],\n",
       "       [-18.08512806,  -1.64233914],\n",
       "       [-17.91435152,  -1.62653305],\n",
       "       [-17.92703406,  -1.39827094],\n",
       "       [-17.92725171,  -1.44804898],\n",
       "       [-18.0498869 ,  -1.37917174],\n",
       "       [-17.91784026,  -1.70755902],\n",
       "       [-17.88571466,  -1.56528006],\n",
       "       [-17.92459908,  -1.45000645],\n",
       "       [-17.9517375 ,  -1.41848913],\n",
       "       [-17.86281952,  -1.67766881],\n",
       "       [-18.06923965,  -1.4035612 ],\n",
       "       [-18.00352527,  -1.61895462],\n",
       "       [-18.14147031,  -1.60642736],\n",
       "       [-17.97700796,  -1.70332444],\n",
       "       [-17.99808573,  -1.67128247],\n",
       "       [-17.93769354,  -1.47336038],\n",
       "       [-18.10703638,  -1.56275497],\n",
       "       [-17.97458189,  -1.61114552],\n",
       "       [-18.06120882,  -1.65988035],\n",
       "       [-17.68224826,  -1.65449286],\n",
       "       [-18.04549991,  -1.67807005],\n",
       "       [-18.13028108,  -1.63765953],\n",
       "       [-17.88097265,  -1.70542212],\n",
       "       [-18.13563155,  -1.82689725],\n",
       "       [-18.06226414,  -1.5697629 ],\n",
       "       [-18.03224815,  -1.60406501],\n",
       "       [-18.16823593,  -1.62222647],\n",
       "       [-18.0338163 ,  -1.4464073 ],\n",
       "       [-18.18766325,  -1.60480411],\n",
       "       [-18.15100402,  -1.56998154],\n",
       "       [-18.01494307,  -1.54534992],\n",
       "       [-18.05969688,  -1.53530191],\n",
       "       [-17.99328612,  -1.39376886],\n",
       "       [-18.07648747,  -1.66204641],\n",
       "       [-17.88272143,  -1.65637668],\n",
       "       [-17.93719395,  -1.75202286],\n",
       "       [-18.06873892,  -1.48294565],\n",
       "       [-18.06374709,  -1.64331193],\n",
       "       [-18.09307111,  -1.60241304],\n",
       "       [-18.02282099,  -1.46922459],\n",
       "       [-18.0951973 ,  -1.77245509],\n",
       "       [-17.96778642,  -1.62845115],\n",
       "       [-18.17333037,  -1.66206236],\n",
       "       [-18.00833297,  -1.55383125],\n",
       "       [-17.9385417 ,  -1.75944736],\n",
       "       [-18.23097885,  -1.7878966 ],\n",
       "       [-17.81070429,  -1.61119628],\n",
       "       [-18.1175464 ,  -1.66250952],\n",
       "       [-18.03138858,  -1.59474901],\n",
       "       [-17.9137623 ,  -1.53279286],\n",
       "       [-17.76016525,  -1.44746395],\n",
       "       [-17.98093198,  -1.47933979],\n",
       "       [-17.99185026,  -1.75207512],\n",
       "       [-17.96186933,  -1.69429192],\n",
       "       [-18.14471923,  -1.53780195],\n",
       "       [-17.82836659,  -1.65929652],\n",
       "       [-17.86263421,  -1.56493599],\n",
       "       [-17.9430502 ,  -1.52655693],\n",
       "       [-17.91036167,  -1.66961269],\n",
       "       [-18.12593515,  -1.58068605],\n",
       "       [-18.07254776,  -1.57491904],\n",
       "       [-18.11208745,  -1.63226121],\n",
       "       [-18.03551021,  -1.52709359],\n",
       "       [-17.99550094,  -1.50513289],\n",
       "       [-18.10915781,  -1.55722698],\n",
       "       [-17.94614744,  -1.48020957],\n",
       "       [-17.96963588,  -1.59626337],\n",
       "       [-18.02177798,  -1.63827474],\n",
       "       [-18.11111466,  -1.54725848],\n",
       "       [-17.92835763,  -1.45145291],\n",
       "       [-18.03141228,  -1.69500461],\n",
       "       [-18.11020366,  -1.64907615],\n",
       "       [-18.01006052,  -1.64527941],\n",
       "       [-18.10346294,  -1.56340517],\n",
       "       [-18.06802235,  -1.50367319],\n",
       "       [-18.0830869 ,  -1.65561038],\n",
       "       [-17.99250728,  -1.50205539],\n",
       "       [-18.17709953,  -1.40156363],\n",
       "       [-17.93188223,  -1.54391925],\n",
       "       [-18.08845799,  -1.55716695],\n",
       "       [-18.07379614,  -1.58978169],\n",
       "       [-17.96806241,  -1.66398462]])"
      ]
     },
     "execution_count": 38,
     "metadata": {},
     "output_type": "execute_result"
    }
   ],
   "source": [
    "phist[46,...]"
   ]
  },
  {
   "cell_type": "code",
   "execution_count": 43,
   "metadata": {},
   "outputs": [
    {
     "data": {
      "text/plain": [
       "array([-75.40440261,   0.44818022])"
      ]
     },
     "execution_count": 43,
     "metadata": {},
     "output_type": "execute_result"
    }
   ],
   "source": [
    "truestate[46,...]"
   ]
  },
  {
   "cell_type": "code",
   "execution_count": 55,
   "metadata": {},
   "outputs": [
    {
     "name": "stdout",
     "output_type": "stream",
     "text": [
      "-47699.69315504392\n"
     ]
    }
   ],
   "source": [
    "xens = phist[46,...]\n",
    "yens = Hm(xens)\n",
    "w_stats = DescrStatsW(yens,weights=xweights)\n",
    "\n",
    "innov = yens - yobs[46,:]\n",
    "\n",
    "Wexp = np.zeros(nens)\n",
    "for _ii in range(nens):\n",
    "    Wexp[_ii] = -0.5*innov[_ii,:] @ Robsmat_inv @ innov[_ii,:].T\n",
    "\n",
    "#Wexp =  -0.5*innov @ Robsmat_inv @ innov.T\n",
    "#Wexp = np.diag(Wexp)\n",
    "Wmax = np.max(Wexp)\n",
    "Wexp = Wexp - Wmax\n",
    "print(Wmax)\n",
    "W = xweights * np.exp(Wexp)\n",
    "W = W/np.sum(W)"
   ]
  },
  {
   "cell_type": "code",
   "execution_count": 56,
   "metadata": {},
   "outputs": [
    {
     "data": {
      "text/plain": [
       "array([0., 0., 0., 0., 0., 0., 0., 0., 0., 0., 0., 0., 0., 0., 0., 0., 0.,\n",
       "       0., 0., 0., 0., 0., 1., 0., 0., 0., 0., 0., 0., 0., 0., 0., 0., 0.,\n",
       "       0., 0., 0., 0., 0., 0., 0., 0., 0., 0., 0., 0., 0., 0., 0., 0., 0.,\n",
       "       0., 0., 0., 0., 0., 0., 0., 0., 0., 0., 0., 0., 0., 0., 0., 0., 0.,\n",
       "       0., 0., 0., 0., 0., 0., 0., 0., 0., 0., 0., 0., 0., 0., 0., 0., 0.,\n",
       "       0., 0., 0., 0., 0., 0., 0., 0., 0., 0., 0., 0., 0., 0., 0.])"
      ]
     },
     "execution_count": 56,
     "metadata": {},
     "output_type": "execute_result"
    }
   ],
   "source": [
    "W"
   ]
  },
  {
   "cell_type": "code",
   "execution_count": 52,
   "metadata": {},
   "outputs": [
    {
     "name": "stdout",
     "output_type": "stream",
     "text": [
      "Resampling the 194th time\n"
     ]
    }
   ],
   "source": [
    "##test for resampling\n",
    "if 1/np.sum(W ** 2)/nens < resamp_thresh:\n",
    "    resampcount += 1\n",
    "    print('Resampling the %dth time'%resampcount)\n",
    "    sampIndex = resampleMultinomial(W)\n",
    "    xens = xens[sampIndex,:] + wiggle*np.random.normal(0,1,size=(nens,ndim))\n",
    "    W2 = np.ones(nens)/nens"
   ]
  },
  {
   "cell_type": "code",
   "execution_count": 53,
   "metadata": {},
   "outputs": [
    {
     "data": {
      "text/plain": [
       "array([0.01, 0.01, 0.01, 0.01, 0.01, 0.01, 0.01, 0.01, 0.01, 0.01, 0.01,\n",
       "       0.01, 0.01, 0.01, 0.01, 0.01, 0.01, 0.01, 0.01, 0.01, 0.01, 0.01,\n",
       "       0.01, 0.01, 0.01, 0.01, 0.01, 0.01, 0.01, 0.01, 0.01, 0.01, 0.01,\n",
       "       0.01, 0.01, 0.01, 0.01, 0.01, 0.01, 0.01, 0.01, 0.01, 0.01, 0.01,\n",
       "       0.01, 0.01, 0.01, 0.01, 0.01, 0.01, 0.01, 0.01, 0.01, 0.01, 0.01,\n",
       "       0.01, 0.01, 0.01, 0.01, 0.01, 0.01, 0.01, 0.01, 0.01, 0.01, 0.01,\n",
       "       0.01, 0.01, 0.01, 0.01, 0.01, 0.01, 0.01, 0.01, 0.01, 0.01, 0.01,\n",
       "       0.01, 0.01, 0.01, 0.01, 0.01, 0.01, 0.01, 0.01, 0.01, 0.01, 0.01,\n",
       "       0.01, 0.01, 0.01, 0.01, 0.01, 0.01, 0.01, 0.01, 0.01, 0.01, 0.01,\n",
       "       0.01])"
      ]
     },
     "execution_count": 53,
     "metadata": {},
     "output_type": "execute_result"
    }
   ],
   "source": [
    "W2"
   ]
  },
  {
   "cell_type": "code",
   "execution_count": null,
   "metadata": {},
   "outputs": [],
   "source": []
  },
  {
   "cell_type": "code",
   "execution_count": null,
   "metadata": {},
   "outputs": [],
   "source": []
  },
  {
   "cell_type": "code",
   "execution_count": 145,
   "metadata": {},
   "outputs": [
    {
     "data": {
      "text/plain": [
       "array([0.01, 0.01, 0.01, 0.01, 0.01, 0.01, 0.01, 0.01, 0.01, 0.01, 0.01,\n",
       "       0.01, 0.01, 0.01, 0.01, 0.01, 0.01, 0.01, 0.01, 0.01, 0.01, 0.01,\n",
       "       0.01, 0.01, 0.01, 0.01, 0.01, 0.01, 0.01, 0.01, 0.01, 0.01, 0.01,\n",
       "       0.01, 0.01, 0.01, 0.01, 0.01, 0.01, 0.01, 0.01, 0.01, 0.01, 0.01,\n",
       "       0.01, 0.01, 0.01, 0.01, 0.01, 0.01, 0.01, 0.01, 0.01, 0.01, 0.01,\n",
       "       0.01, 0.01, 0.01, 0.01, 0.01, 0.01, 0.01, 0.01, 0.01, 0.01, 0.01,\n",
       "       0.01, 0.01, 0.01, 0.01, 0.01, 0.01, 0.01, 0.01, 0.01, 0.01, 0.01,\n",
       "       0.01, 0.01, 0.01, 0.01, 0.01, 0.01, 0.01, 0.01, 0.01, 0.01, 0.01,\n",
       "       0.01, 0.01, 0.01, 0.01, 0.01, 0.01, 0.01, 0.01, 0.01, 0.01, 0.01,\n",
       "       0.01])"
      ]
     },
     "execution_count": 145,
     "metadata": {},
     "output_type": "execute_result"
    }
   ],
   "source": [
    "whist[0,:]"
   ]
  },
  {
   "cell_type": "code",
   "execution_count": 99,
   "metadata": {},
   "outputs": [
    {
     "data": {
      "text/plain": [
       "[<matplotlib.lines.Line2D at 0x1bae9c160>]"
      ]
     },
     "execution_count": 99,
     "metadata": {},
     "output_type": "execute_result"
    },
    {
     "data": {
      "image/png": "[encoded data removed]",
      "text/plain": [
       "<Figure size 432x288 with 1 Axes>"
      ]
     },
     "metadata": {},
     "output_type": "display_data"
    }
   ],
   "source": [
    "plt.plot(xacov[:,0,0])"
   ]
  },
  {
   "cell_type": "code",
   "execution_count": 365,
   "metadata": {},
   "outputs": [],
   "source": [
    "yfm = enkf.Hm(xfm)\n",
    "yam = enkf.Hm(xam)"
   ]
  },
  {
   "cell_type": "code",
   "execution_count": 75,
   "metadata": {},
   "outputs": [
    {
     "ename": "NameError",
     "evalue": "name 'yam' is not defined",
     "output_type": "error",
     "traceback": [
      "\u001b[0;31m---------------------------------------------------------------------------\u001b[0m",
      "\u001b[0;31mNameError\u001b[0m                                 Traceback (most recent call last)",
      "\u001b[0;32m<ipython-input-75-ced96729011b>\u001b[0m in \u001b[0;36m<module>\u001b[0;34m()\u001b[0m\n\u001b[1;32m      5\u001b[0m     \u001b[0mlt\u001b[0m\u001b[0;34m,\u001b[0m \u001b[0;34m=\u001b[0m \u001b[0maxes\u001b[0m\u001b[0;34m[\u001b[0m\u001b[0m_i\u001b[0m\u001b[0;34m]\u001b[0m\u001b[0;34m.\u001b[0m\u001b[0mplot\u001b[0m\u001b[0;34m(\u001b[0m\u001b[0mobs_data\u001b[0m\u001b[0;34m[\u001b[0m\u001b[0;34m:\u001b[0m\u001b[0mT\u001b[0m\u001b[0;34m,\u001b[0m\u001b[0m_i\u001b[0m\u001b[0;34m]\u001b[0m\u001b[0;34m)\u001b[0m\u001b[0;34m\u001b[0m\u001b[0m\n\u001b[1;32m      6\u001b[0m     \u001b[0mlf\u001b[0m\u001b[0;34m,\u001b[0m \u001b[0;34m=\u001b[0m \u001b[0maxes\u001b[0m\u001b[0;34m[\u001b[0m\u001b[0m_i\u001b[0m\u001b[0;34m]\u001b[0m\u001b[0;34m.\u001b[0m\u001b[0mplot\u001b[0m\u001b[0;34m(\u001b[0m\u001b[0myfm\u001b[0m\u001b[0;34m[\u001b[0m\u001b[0;34m:\u001b[0m\u001b[0mT\u001b[0m\u001b[0;34m,\u001b[0m\u001b[0m_i\u001b[0m\u001b[0;34m]\u001b[0m\u001b[0;34m)\u001b[0m\u001b[0;34m\u001b[0m\u001b[0m\n\u001b[0;32m----> 7\u001b[0;31m     \u001b[0mla\u001b[0m\u001b[0;34m,\u001b[0m \u001b[0;34m=\u001b[0m \u001b[0maxes\u001b[0m\u001b[0;34m[\u001b[0m\u001b[0m_i\u001b[0m\u001b[0;34m]\u001b[0m\u001b[0;34m.\u001b[0m\u001b[0mplot\u001b[0m\u001b[0;34m(\u001b[0m\u001b[0myam\u001b[0m\u001b[0;34m[\u001b[0m\u001b[0;34m:\u001b[0m\u001b[0mT\u001b[0m\u001b[0;34m,\u001b[0m\u001b[0m_i\u001b[0m\u001b[0;34m]\u001b[0m\u001b[0;34m)\u001b[0m\u001b[0;34m\u001b[0m\u001b[0m\n\u001b[0m",
      "\u001b[0;31mNameError\u001b[0m: name 'yam' is not defined"
     ]
    },
    {
     "data": {
      "image/png": "[encoded data removed]",
      "text/plain": [
       "<Figure size 2160x2160 with 5 Axes>"
      ]
     },
     "metadata": {},
     "output_type": "display_data"
    }
   ],
   "source": [
    "f,axes = plt.subplots(5,1,figsize=(30,30))\n",
    "for _i in range(5):\n",
    "\n",
    "    lt, = axes[_i].plot(obs_data_true[:T,_i])\n",
    "    lt, = axes[_i].plot(obs_data[:T,_i])\n",
    "    lf, = axes[_i].plot(yfm[:T,_i])\n",
    "    la, = axes[_i].plot(yam[:T,_i])"
   ]
  },
  {
   "cell_type": "code",
   "execution_count": null,
   "metadata": {},
   "outputs": [],
   "source": []
  },
  {
   "cell_type": "code",
   "execution_count": null,
   "metadata": {},
   "outputs": [],
   "source": []
  },
  {
   "cell_type": "code",
   "execution_count": null,
   "metadata": {},
   "outputs": [],
   "source": []
  },
  {
   "cell_type": "code",
   "execution_count": null,
   "metadata": {},
   "outputs": [],
   "source": []
  },
  {
   "cell_type": "code",
   "execution_count": null,
   "metadata": {},
   "outputs": [],
   "source": []
  },
  {
   "cell_type": "code",
   "execution_count": 158,
   "metadata": {},
   "outputs": [
    {
     "data": {
      "text/plain": [
       "1.4142135623730951"
      ]
     },
     "execution_count": 158,
     "metadata": {},
     "output_type": "execute_result"
    }
   ],
   "source": [
    "np.sqrt(2)"
   ]
  },
  {
   "cell_type": "code",
   "execution_count": 103,
   "metadata": {},
   "outputs": [
    {
     "data": {
      "text/plain": [
       "(1000, 2)"
      ]
     },
     "execution_count": 103,
     "metadata": {},
     "output_type": "execute_result"
    }
   ],
   "source": [
    "state_data.shape"
   ]
  },
  {
   "cell_type": "code",
   "execution_count": 169,
   "metadata": {},
   "outputs": [],
   "source": [
    "sigmainit=0.9\n",
    "xinit=np.array([-200,0.7])\n",
    "\n",
    "sigma = xinit * np.clip(sigmainit * np.random.randn(*xinit.shape),-0.1,0.1)"
   ]
  },
  {
   "cell_type": "code",
   "execution_count": 170,
   "metadata": {},
   "outputs": [
    {
     "data": {
      "text/plain": [
       "array([[4.0e+02, 0.0e+00],\n",
       "       [0.0e+00, 4.9e-03]])"
      ]
     },
     "execution_count": 170,
     "metadata": {},
     "output_type": "execute_result"
    }
   ],
   "source": [
    "np.identity(2) * (sigma ** 2)"
   ]
  },
  {
   "cell_type": "code",
   "execution_count": 171,
   "metadata": {},
   "outputs": [],
   "source": [
    "xens = np.random.multivariate_normal(xinit, np.identity(2) * (sigma ** 2), 100)"
   ]
  },
  {
   "cell_type": "code",
   "execution_count": 172,
   "metadata": {},
   "outputs": [
    {
     "data": {
      "text/plain": [
       "<matplotlib.collections.PathCollection at 0x1da4b14a8>"
      ]
     },
     "execution_count": 172,
     "metadata": {},
     "output_type": "execute_result"
    },
    {
     "data": {
      "image/png": "[encoded data removed]",
      "text/plain": [
       "<Figure size 432x288 with 1 Axes>"
      ]
     },
     "metadata": {},
     "output_type": "display_data"
    }
   ],
   "source": [
    "plt.scatter(xens[:,0],xens[:,1])"
   ]
  },
  {
   "cell_type": "code",
   "execution_count": null,
   "metadata": {},
   "outputs": [],
   "source": []
  }
 ],
 "metadata": {
  "kernelspec": {
   "display_name": "Python 3",
   "language": "python",
   "name": "python3"
  },
  "language_info": {
   "codemirror_mode": {
    "name": "ipython",
    "version": 3
   },
   "file_extension": ".py",
   "mimetype": "text/x-python",
   "name": "python",
   "nbconvert_exporter": "python",
   "pygments_lexer": "ipython3",
   "version": "3.6.6"
  }
 },
 "nbformat": 4,
 "nbformat_minor": 2
}
